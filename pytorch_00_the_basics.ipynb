{
  "nbformat": 4,
  "nbformat_minor": 0,
  "metadata": {
    "colab": {
      "provenance": [],
      "toc_visible": true,
      "gpuType": "T4"
    },
    "kernelspec": {
      "name": "python3",
      "display_name": "Python 3"
    },
    "language_info": {
      "name": "python"
    },
    "accelerator": "GPU"
  },
  "cells": [
    {
      "cell_type": "code",
      "execution_count": null,
      "metadata": {
        "colab": {
          "base_uri": "https://localhost:8080/"
        },
        "id": "uR5Q320hvdoz",
        "outputId": "120d6c7f-1493-4b2f-b782-47dc478cd188"
      },
      "outputs": [
        {
          "output_type": "stream",
          "name": "stdout",
          "text": [
            "2.1.0+cu118\n"
          ]
        }
      ],
      "source": [
        "import torch\n",
        "print(torch.__version__)"
      ]
    },
    {
      "cell_type": "markdown",
      "source": [
        "# *1. Starting off with scalars*"
      ],
      "metadata": {
        "id": "3uc-3-Xvyujy"
      }
    },
    {
      "cell_type": "code",
      "source": [
        "scalar = torch.tensor(7)\n",
        "scalar"
      ],
      "metadata": {
        "colab": {
          "base_uri": "https://localhost:8080/"
        },
        "id": "_WpDL1rLxd9P",
        "outputId": "3c7ebe96-ed7d-407f-95b3-6860d08963b2"
      },
      "execution_count": null,
      "outputs": [
        {
          "output_type": "execute_result",
          "data": {
            "text/plain": [
              "tensor(7)"
            ]
          },
          "metadata": {},
          "execution_count": 2
        }
      ]
    },
    {
      "cell_type": "code",
      "source": [
        "scalar.ndim #dimension of the tensor"
      ],
      "metadata": {
        "colab": {
          "base_uri": "https://localhost:8080/"
        },
        "id": "PxDL2lDPx6xN",
        "outputId": "237bc3ed-2c53-4659-dc2c-b16cb164a1f2"
      },
      "execution_count": null,
      "outputs": [
        {
          "output_type": "execute_result",
          "data": {
            "text/plain": [
              "0"
            ]
          },
          "metadata": {},
          "execution_count": 7
        }
      ]
    },
    {
      "cell_type": "code",
      "source": [
        "scalar.item() #returns a python integer"
      ],
      "metadata": {
        "colab": {
          "base_uri": "https://localhost:8080/"
        },
        "id": "SkPmUQtdyKpH",
        "outputId": "c99ce64a-9a8d-455c-b99f-eb4fb8577f8c"
      },
      "execution_count": null,
      "outputs": [
        {
          "output_type": "execute_result",
          "data": {
            "text/plain": [
              "7"
            ]
          },
          "metadata": {},
          "execution_count": 10
        }
      ]
    },
    {
      "cell_type": "markdown",
      "source": [
        "# *2. The vectors*"
      ],
      "metadata": {
        "id": "OaZK6wE7y4TT"
      }
    },
    {
      "cell_type": "code",
      "source": [
        "vector = torch.tensor([7, 7])\n",
        "vector"
      ],
      "metadata": {
        "colab": {
          "base_uri": "https://localhost:8080/"
        },
        "id": "Ztp3g9o0yfOy",
        "outputId": "16268c22-5aa3-4dbe-a7f9-972983a24319"
      },
      "execution_count": null,
      "outputs": [
        {
          "output_type": "execute_result",
          "data": {
            "text/plain": [
              "tensor([7, 7])"
            ]
          },
          "metadata": {},
          "execution_count": 11
        }
      ]
    },
    {
      "cell_type": "code",
      "source": [
        "vector.ndim #usually the dimension can be calculated by the number of square brackets"
      ],
      "metadata": {
        "colab": {
          "base_uri": "https://localhost:8080/"
        },
        "id": "SEPbTywUzAoE",
        "outputId": "683062ca-48e8-43ed-ae27-5c1fa9430b31"
      },
      "execution_count": null,
      "outputs": [
        {
          "output_type": "execute_result",
          "data": {
            "text/plain": [
              "1"
            ]
          },
          "metadata": {},
          "execution_count": 13
        }
      ]
    },
    {
      "cell_type": "code",
      "source": [
        "vector.shape"
      ],
      "metadata": {
        "colab": {
          "base_uri": "https://localhost:8080/"
        },
        "id": "wvn9_JN3zMy5",
        "outputId": "c81f3e4b-5695-4fe7-f0ee-398fc0ded888"
      },
      "execution_count": null,
      "outputs": [
        {
          "output_type": "execute_result",
          "data": {
            "text/plain": [
              "torch.Size([2])"
            ]
          },
          "metadata": {},
          "execution_count": 14
        }
      ]
    },
    {
      "cell_type": "markdown",
      "source": [
        "# *3. The Matrices*"
      ],
      "metadata": {
        "id": "1amivvqKzfO4"
      }
    },
    {
      "cell_type": "code",
      "source": [
        "MATRIX = torch.tensor([[7, 7],\n",
        "                      [5, 5]])\n",
        "MATRIX"
      ],
      "metadata": {
        "colab": {
          "base_uri": "https://localhost:8080/"
        },
        "id": "UuZqZ6K1zh7v",
        "outputId": "9acebb8e-8648-4b92-c7d0-24929abb045d"
      },
      "execution_count": null,
      "outputs": [
        {
          "output_type": "execute_result",
          "data": {
            "text/plain": [
              "tensor([[7, 7],\n",
              "        [5, 5]])"
            ]
          },
          "metadata": {},
          "execution_count": 21
        }
      ]
    },
    {
      "cell_type": "code",
      "source": [
        "MATRIX.ndim"
      ],
      "metadata": {
        "colab": {
          "base_uri": "https://localhost:8080/"
        },
        "id": "5Pu8rs17ziBz",
        "outputId": "875cd030-729b-4f3b-8846-3cb370910f54"
      },
      "execution_count": null,
      "outputs": [
        {
          "output_type": "execute_result",
          "data": {
            "text/plain": [
              "2"
            ]
          },
          "metadata": {},
          "execution_count": 17
        }
      ]
    },
    {
      "cell_type": "code",
      "source": [
        "MATRIX[0]\n",
        "MATRIX[1]"
      ],
      "metadata": {
        "colab": {
          "base_uri": "https://localhost:8080/"
        },
        "id": "AQIu6dQ70CLa",
        "outputId": "659980ec-5b7b-4602-c291-9b93d8102bf0"
      },
      "execution_count": null,
      "outputs": [
        {
          "output_type": "execute_result",
          "data": {
            "text/plain": [
              "tensor([5, 5])"
            ]
          },
          "metadata": {},
          "execution_count": 18
        }
      ]
    },
    {
      "cell_type": "code",
      "source": [
        "MATRIX.shape"
      ],
      "metadata": {
        "colab": {
          "base_uri": "https://localhost:8080/"
        },
        "id": "x2AbJSZP0Mj9",
        "outputId": "2119b42d-49a7-4d85-e7d4-9afd7d952b31"
      },
      "execution_count": null,
      "outputs": [
        {
          "output_type": "execute_result",
          "data": {
            "text/plain": [
              "torch.Size([2, 2])"
            ]
          },
          "metadata": {},
          "execution_count": 19
        }
      ]
    },
    {
      "cell_type": "markdown",
      "source": [
        "# *4. TENSORS*"
      ],
      "metadata": {
        "id": "mmX-Q_DU0dY7"
      }
    },
    {
      "cell_type": "code",
      "source": [
        "TENSOR = torch.tensor([[[1, 2, 3],\n",
        "                        [4, 5, 6],\n",
        "                        [7, 8, 9]]])\n",
        "TENSOR"
      ],
      "metadata": {
        "colab": {
          "base_uri": "https://localhost:8080/"
        },
        "id": "VK_zb6bk0hIv",
        "outputId": "d4fdbdc3-26de-4871-d787-f80ddb176843"
      },
      "execution_count": null,
      "outputs": [
        {
          "output_type": "execute_result",
          "data": {
            "text/plain": [
              "tensor([[[1, 2, 3],\n",
              "         [4, 5, 6],\n",
              "         [7, 8, 9]]])"
            ]
          },
          "metadata": {},
          "execution_count": 22
        }
      ]
    },
    {
      "cell_type": "code",
      "source": [
        "TENSOR.ndim"
      ],
      "metadata": {
        "colab": {
          "base_uri": "https://localhost:8080/"
        },
        "id": "P_TJLImW1EdU",
        "outputId": "924400e4-a24e-46bd-e729-3e45874213ef"
      },
      "execution_count": null,
      "outputs": [
        {
          "output_type": "execute_result",
          "data": {
            "text/plain": [
              "3"
            ]
          },
          "metadata": {},
          "execution_count": 23
        }
      ]
    },
    {
      "cell_type": "code",
      "source": [
        "TENSOR.shape"
      ],
      "metadata": {
        "colab": {
          "base_uri": "https://localhost:8080/"
        },
        "id": "dRVw2uZ_1OVe",
        "outputId": "a275eb3f-09f3-4c30-b334-5f07be5ccd94"
      },
      "execution_count": null,
      "outputs": [
        {
          "output_type": "execute_result",
          "data": {
            "text/plain": [
              "torch.Size([1, 3, 3])"
            ]
          },
          "metadata": {},
          "execution_count": 24
        }
      ]
    },
    {
      "cell_type": "code",
      "source": [
        "TENSOR[0]"
      ],
      "metadata": {
        "colab": {
          "base_uri": "https://localhost:8080/"
        },
        "id": "igF3s67y1hr7",
        "outputId": "16cc5b88-d804-4715-ccd2-42ebf1cbc3cf"
      },
      "execution_count": null,
      "outputs": [
        {
          "output_type": "execute_result",
          "data": {
            "text/plain": [
              "tensor([[1, 2, 3],\n",
              "        [4, 5, 6],\n",
              "        [7, 8, 9]])"
            ]
          },
          "metadata": {},
          "execution_count": 25
        }
      ]
    },
    {
      "cell_type": "code",
      "source": [
        "TENSOR[0, 1]"
      ],
      "metadata": {
        "colab": {
          "base_uri": "https://localhost:8080/"
        },
        "id": "V-qAEa_l1kLt",
        "outputId": "533a91c1-e936-4aa7-9395-00a39534c58d"
      },
      "execution_count": null,
      "outputs": [
        {
          "output_type": "execute_result",
          "data": {
            "text/plain": [
              "tensor([4, 5, 6])"
            ]
          },
          "metadata": {},
          "execution_count": 29
        }
      ]
    },
    {
      "cell_type": "code",
      "source": [
        "TENSOR[0, 2, 2]"
      ],
      "metadata": {
        "colab": {
          "base_uri": "https://localhost:8080/"
        },
        "id": "FFYnzTY-1vr5",
        "outputId": "942dd7b8-3b28-4421-b02f-48559f22644d"
      },
      "execution_count": null,
      "outputs": [
        {
          "output_type": "execute_result",
          "data": {
            "text/plain": [
              "tensor(9)"
            ]
          },
          "metadata": {},
          "execution_count": 30
        }
      ]
    },
    {
      "cell_type": "markdown",
      "source": [
        "The reason for the shape being (1, 3, 3) is that within the tensor we have one element, which consists of 3 sub-elements, each of those have 3 items in them"
      ],
      "metadata": {
        "id": "cFHNNByo15FF"
      }
    },
    {
      "cell_type": "markdown",
      "source": [
        "# *5. Random Tensors*"
      ],
      "metadata": {
        "id": "gHvb7Lvx8Aa_"
      }
    },
    {
      "cell_type": "code",
      "source": [
        "rnd_tensor = torch.rand(3, 4)\n",
        "rnd_tensor"
      ],
      "metadata": {
        "colab": {
          "base_uri": "https://localhost:8080/"
        },
        "id": "0LamPvzO2J3I",
        "outputId": "67ef6c27-a7ba-4c65-de18-33d71aaf13fa"
      },
      "execution_count": null,
      "outputs": [
        {
          "output_type": "execute_result",
          "data": {
            "text/plain": [
              "tensor([[0.3381, 0.8192, 0.3611, 0.4290],\n",
              "        [0.7652, 0.0044, 0.7277, 0.7201],\n",
              "        [0.6178, 0.2819, 0.3163, 0.2059]])"
            ]
          },
          "metadata": {},
          "execution_count": 32
        }
      ]
    },
    {
      "cell_type": "code",
      "source": [
        "rnd_tensor.ndim"
      ],
      "metadata": {
        "colab": {
          "base_uri": "https://localhost:8080/"
        },
        "id": "u4HRsZi38W3b",
        "outputId": "de385ed1-e42c-4e29-d37e-0e196a8d397e"
      },
      "execution_count": null,
      "outputs": [
        {
          "output_type": "execute_result",
          "data": {
            "text/plain": [
              "2"
            ]
          },
          "metadata": {},
          "execution_count": 33
        }
      ]
    },
    {
      "cell_type": "code",
      "source": [
        "rnd_tensor_2 = torch.rand(2, 5, 2)\n",
        "rnd_tensor_2"
      ],
      "metadata": {
        "colab": {
          "base_uri": "https://localhost:8080/"
        },
        "id": "wU4MVQE38axB",
        "outputId": "ecd98b6b-732d-41b9-95b3-1e912b3c079e"
      },
      "execution_count": null,
      "outputs": [
        {
          "output_type": "execute_result",
          "data": {
            "text/plain": [
              "tensor([[[0.1543, 0.2758],\n",
              "         [0.9586, 0.4213],\n",
              "         [0.3504, 0.0368],\n",
              "         [0.9719, 0.6650],\n",
              "         [0.9683, 0.1370]],\n",
              "\n",
              "        [[0.8299, 0.3945],\n",
              "         [0.0151, 0.0064],\n",
              "         [0.9175, 0.8607],\n",
              "         [0.8479, 0.5419],\n",
              "         [0.2224, 0.8708]]])"
            ]
          },
          "metadata": {},
          "execution_count": 35
        }
      ]
    },
    {
      "cell_type": "code",
      "source": [
        "rnd_tensor_2.ndim"
      ],
      "metadata": {
        "colab": {
          "base_uri": "https://localhost:8080/"
        },
        "id": "sAD5_KtO8xIX",
        "outputId": "91fe5138-4a2d-4260-94d9-8faae203b933"
      },
      "execution_count": null,
      "outputs": [
        {
          "output_type": "execute_result",
          "data": {
            "text/plain": [
              "3"
            ]
          },
          "metadata": {},
          "execution_count": 36
        }
      ]
    },
    {
      "cell_type": "code",
      "source": [
        "#somthing like tensor for images\n",
        "\n",
        "rnd_imagesize_tensor = torch.rand(255, 255, 3) #height, width, colour channels\n",
        "rnd_imagesize_tensor"
      ],
      "metadata": {
        "colab": {
          "base_uri": "https://localhost:8080/"
        },
        "id": "oiIo64S39RRF",
        "outputId": "36d8600c-b368-4a6f-9255-5cb45c7509d2"
      },
      "execution_count": null,
      "outputs": [
        {
          "output_type": "execute_result",
          "data": {
            "text/plain": [
              "tensor([[[0.4890, 0.6618, 0.2619],\n",
              "         [0.9808, 0.7717, 0.3934],\n",
              "         [0.4579, 0.4518, 0.5585],\n",
              "         ...,\n",
              "         [0.1473, 0.1044, 0.4672],\n",
              "         [0.3442, 0.8875, 0.4997],\n",
              "         [0.5369, 0.3665, 0.7762]],\n",
              "\n",
              "        [[0.4023, 0.6059, 0.9407],\n",
              "         [0.2054, 0.0813, 0.4582],\n",
              "         [0.0096, 0.9701, 0.3688],\n",
              "         ...,\n",
              "         [0.0934, 0.0210, 0.6346],\n",
              "         [0.5888, 0.3045, 0.1971],\n",
              "         [0.4094, 0.9787, 0.7666]],\n",
              "\n",
              "        [[0.7981, 0.4950, 0.2464],\n",
              "         [0.1050, 0.7004, 0.7140],\n",
              "         [0.7110, 0.1489, 0.2729],\n",
              "         ...,\n",
              "         [0.9536, 0.3771, 0.6982],\n",
              "         [0.4700, 0.2701, 0.3958],\n",
              "         [0.6522, 0.0663, 0.2053]],\n",
              "\n",
              "        ...,\n",
              "\n",
              "        [[0.8802, 0.3709, 0.1578],\n",
              "         [0.3231, 0.7390, 0.4729],\n",
              "         [0.7943, 0.6878, 0.7152],\n",
              "         ...,\n",
              "         [0.6898, 0.6001, 0.6219],\n",
              "         [0.7703, 0.6361, 0.8335],\n",
              "         [0.0399, 0.8447, 0.5854]],\n",
              "\n",
              "        [[0.1843, 0.6301, 0.0258],\n",
              "         [0.9846, 0.5250, 0.5505],\n",
              "         [0.2146, 0.4508, 0.8692],\n",
              "         ...,\n",
              "         [0.5302, 0.8584, 0.8944],\n",
              "         [0.3251, 0.6556, 0.7097],\n",
              "         [0.2308, 0.5845, 0.2568]],\n",
              "\n",
              "        [[0.7254, 0.9047, 0.1073],\n",
              "         [0.6249, 0.6262, 0.6375],\n",
              "         [0.9331, 0.7513, 0.8321],\n",
              "         ...,\n",
              "         [0.6443, 0.8042, 0.2766],\n",
              "         [0.0515, 0.4093, 0.6848],\n",
              "         [0.6646, 0.7757, 0.6640]]])"
            ]
          },
          "metadata": {},
          "execution_count": 37
        }
      ]
    },
    {
      "cell_type": "code",
      "source": [
        "rnd_imagesize_tensor.shape, rnd_imagesize_tensor.ndim"
      ],
      "metadata": {
        "colab": {
          "base_uri": "https://localhost:8080/"
        },
        "id": "xw-HQnu798g1",
        "outputId": "d9459dfc-41a5-4736-8c32-ef5d39b44082"
      },
      "execution_count": null,
      "outputs": [
        {
          "output_type": "execute_result",
          "data": {
            "text/plain": [
              "(torch.Size([255, 255, 3]), 3)"
            ]
          },
          "metadata": {},
          "execution_count": 38
        }
      ]
    },
    {
      "cell_type": "markdown",
      "source": [
        "# *6. Zeroes and Ones*"
      ],
      "metadata": {
        "id": "XZ6DN0Ko-nPY"
      }
    },
    {
      "cell_type": "code",
      "source": [
        "zero_tensor = torch.zeros(3, 2, 3, 4)\n",
        "zero_tensor"
      ],
      "metadata": {
        "colab": {
          "base_uri": "https://localhost:8080/"
        },
        "id": "IROFlw5H-sM2",
        "outputId": "18faa911-7cb8-40f8-e498-77f1b6e1a800"
      },
      "execution_count": null,
      "outputs": [
        {
          "output_type": "execute_result",
          "data": {
            "text/plain": [
              "tensor([[[[0., 0., 0., 0.],\n",
              "          [0., 0., 0., 0.],\n",
              "          [0., 0., 0., 0.]],\n",
              "\n",
              "         [[0., 0., 0., 0.],\n",
              "          [0., 0., 0., 0.],\n",
              "          [0., 0., 0., 0.]]],\n",
              "\n",
              "\n",
              "        [[[0., 0., 0., 0.],\n",
              "          [0., 0., 0., 0.],\n",
              "          [0., 0., 0., 0.]],\n",
              "\n",
              "         [[0., 0., 0., 0.],\n",
              "          [0., 0., 0., 0.],\n",
              "          [0., 0., 0., 0.]]],\n",
              "\n",
              "\n",
              "        [[[0., 0., 0., 0.],\n",
              "          [0., 0., 0., 0.],\n",
              "          [0., 0., 0., 0.]],\n",
              "\n",
              "         [[0., 0., 0., 0.],\n",
              "          [0., 0., 0., 0.],\n",
              "          [0., 0., 0., 0.]]]])"
            ]
          },
          "metadata": {},
          "execution_count": 39
        }
      ]
    },
    {
      "cell_type": "code",
      "source": [
        "one_tensor = torch.ones(2, 5)\n",
        "one_tensor"
      ],
      "metadata": {
        "colab": {
          "base_uri": "https://localhost:8080/"
        },
        "id": "MRfMdsAv_PVt",
        "outputId": "8ebdf8e3-6ffc-4196-9147-8c8c9c4f69ac"
      },
      "execution_count": null,
      "outputs": [
        {
          "output_type": "execute_result",
          "data": {
            "text/plain": [
              "tensor([[1., 1., 1., 1., 1.],\n",
              "        [1., 1., 1., 1., 1.]])"
            ]
          },
          "metadata": {},
          "execution_count": 40
        }
      ]
    },
    {
      "cell_type": "code",
      "source": [
        "one_tensor.dtype #shows the type of the element; usually it is the standart -> a float32 -> 32 bit float"
      ],
      "metadata": {
        "colab": {
          "base_uri": "https://localhost:8080/"
        },
        "id": "Gk_XH0px_hLD",
        "outputId": "4497e80b-db2d-4e94-c620-64ed02cd5d79"
      },
      "execution_count": null,
      "outputs": [
        {
          "output_type": "execute_result",
          "data": {
            "text/plain": [
              "torch.float32"
            ]
          },
          "metadata": {},
          "execution_count": 42
        }
      ]
    },
    {
      "cell_type": "markdown",
      "source": [
        "# *7. Range and tensors-like*"
      ],
      "metadata": {
        "id": "gOlmj979AehW"
      }
    },
    {
      "cell_type": "code",
      "source": [
        "one_to_ten = torch.arange(0, 10)\n",
        "one_to_ten"
      ],
      "metadata": {
        "colab": {
          "base_uri": "https://localhost:8080/"
        },
        "id": "gmS__hy3AjFx",
        "outputId": "1e7d83b1-4ee2-44e8-fd4f-eb8f2c480fe7"
      },
      "execution_count": null,
      "outputs": [
        {
          "output_type": "execute_result",
          "data": {
            "text/plain": [
              "tensor([0, 1, 2, 3, 4, 5, 6, 7, 8, 9])"
            ]
          },
          "metadata": {},
          "execution_count": 44
        }
      ]
    },
    {
      "cell_type": "code",
      "source": [
        "range_w_skips = torch.arange(start=0, end=51, step=5)\n",
        "range_w_skips"
      ],
      "metadata": {
        "colab": {
          "base_uri": "https://localhost:8080/"
        },
        "id": "48zfTVl_A2Fc",
        "outputId": "23a97886-276a-494f-c3d0-714e844a7cdf"
      },
      "execution_count": null,
      "outputs": [
        {
          "output_type": "execute_result",
          "data": {
            "text/plain": [
              "tensor([ 0,  5, 10, 15, 20, 25, 30, 35, 40, 45, 50])"
            ]
          },
          "metadata": {},
          "execution_count": 47
        }
      ]
    },
    {
      "cell_type": "code",
      "source": [
        "#creating tensors with shapes like the given ones\n",
        "\n",
        "ten_zeroes = torch.zeros_like(one_to_ten)\n",
        "ten_zeroes"
      ],
      "metadata": {
        "colab": {
          "base_uri": "https://localhost:8080/"
        },
        "id": "Hzz51UKjBIXE",
        "outputId": "a6035be4-a50c-4ba8-b15c-6e589ea00e4f"
      },
      "execution_count": null,
      "outputs": [
        {
          "output_type": "execute_result",
          "data": {
            "text/plain": [
              "tensor([0, 0, 0, 0, 0, 0, 0, 0, 0, 0])"
            ]
          },
          "metadata": {},
          "execution_count": 50
        }
      ]
    },
    {
      "cell_type": "markdown",
      "source": [
        "# *8. Datatypes*\n",
        "\n",
        "3 most common errors arise from here:\n",
        "1. Tensor has wrong data type\n",
        "2. Tensor has wrong shape\n",
        "3. Tensor is not on the write devise"
      ],
      "metadata": {
        "id": "SYp6Yg3RG31z"
      }
    },
    {
      "cell_type": "code",
      "source": [
        "#default -> float 32\n",
        "f32_tensor = torch.tensor([3.0, 4.0, 5.0],\n",
        "                          dtype = None, #what datatype the tensor is gonna use, even if u put none it will default to float32\n",
        "                          device = None, #the device that the tensor is on (cpu, gpu[cuda], tpu, etc.)\n",
        "                          requires_grad = False) #whether to track the gradient of the tensor in calculations\n",
        "f32_tensor"
      ],
      "metadata": {
        "colab": {
          "base_uri": "https://localhost:8080/"
        },
        "id": "5GSg-9-3HSB3",
        "outputId": "fd5de300-83cf-4b4b-d7e4-68b10d9b333a"
      },
      "execution_count": null,
      "outputs": [
        {
          "output_type": "execute_result",
          "data": {
            "text/plain": [
              "tensor([3., 4., 5.])"
            ]
          },
          "metadata": {},
          "execution_count": 51
        }
      ]
    },
    {
      "cell_type": "code",
      "source": [
        "f32_tensor.dtype"
      ],
      "metadata": {
        "colab": {
          "base_uri": "https://localhost:8080/"
        },
        "id": "fj59tZLKIR83",
        "outputId": "5f3342f3-6dad-4912-c347-478cc82a6b3d"
      },
      "execution_count": null,
      "outputs": [
        {
          "output_type": "execute_result",
          "data": {
            "text/plain": [
              "torch.float32"
            ]
          },
          "metadata": {},
          "execution_count": 52
        }
      ]
    },
    {
      "cell_type": "code",
      "source": [
        "f16_tensor = f32_tensor.type(torch.half) #new tensor with info from last tensor but shortened\n",
        "f16_tensor"
      ],
      "metadata": {
        "colab": {
          "base_uri": "https://localhost:8080/"
        },
        "id": "-UySVeJ9IfdO",
        "outputId": "4efa8922-4700-4a8e-e3ce-2d8d9693cd8b"
      },
      "execution_count": null,
      "outputs": [
        {
          "output_type": "execute_result",
          "data": {
            "text/plain": [
              "tensor([3., 4., 5.], dtype=torch.float16)"
            ]
          },
          "metadata": {},
          "execution_count": 56
        }
      ]
    },
    {
      "cell_type": "code",
      "source": [
        "f16_tensor.dtype"
      ],
      "metadata": {
        "colab": {
          "base_uri": "https://localhost:8080/"
        },
        "id": "yJpIGv_2Il0R",
        "outputId": "d1b46f29-26a3-4530-f0d1-e5937e837dfc"
      },
      "execution_count": null,
      "outputs": [
        {
          "output_type": "execute_result",
          "data": {
            "text/plain": [
              "torch.float16"
            ]
          },
          "metadata": {},
          "execution_count": 54
        }
      ]
    },
    {
      "cell_type": "markdown",
      "source": [
        "with usual tensors:\n",
        "\n",
        "default -> f32\n",
        "\n",
        "half -> f16\n",
        "\n",
        "double -> f64\n",
        "_____\n",
        "\n",
        "there are also complex, bit integer(signed/unsigned), bools, and quantized tensors\n",
        "(https://pytorch.org/docs/stable/tensors.html)"
      ],
      "metadata": {
        "id": "X7jgL34JJOu5"
      }
    },
    {
      "cell_type": "code",
      "source": [
        "fidk_tensor = f32_tensor * f16_tensor\n",
        "fidk_tensor.dtype"
      ],
      "metadata": {
        "colab": {
          "base_uri": "https://localhost:8080/"
        },
        "id": "7vC0ulEOJ6yZ",
        "outputId": "7b9f4443-9e3a-4a59-9dbd-7929f475b2b9"
      },
      "execution_count": null,
      "outputs": [
        {
          "output_type": "execute_result",
          "data": {
            "text/plain": [
              "torch.float32"
            ]
          },
          "metadata": {},
          "execution_count": 59
        }
      ]
    },
    {
      "cell_type": "code",
      "source": [
        "int32_tensor = torch.tensor([3.9999999, 4, 5],\n",
        "                            dtype = torch.int32)\n",
        "#ig it uses floor function (or basically taakes only the full integer side) to put the float to int\n",
        "int32_tensor"
      ],
      "metadata": {
        "colab": {
          "base_uri": "https://localhost:8080/"
        },
        "id": "qCyWlvvhJxJh",
        "outputId": "49dc30ab-4efb-4291-c987-5ff151bae673"
      },
      "execution_count": null,
      "outputs": [
        {
          "output_type": "execute_result",
          "data": {
            "text/plain": [
              "tensor([3, 4, 5], dtype=torch.int32)"
            ]
          },
          "metadata": {},
          "execution_count": 68
        }
      ]
    },
    {
      "cell_type": "code",
      "source": [
        "some_rnd_tensor = torch.rand(3, 4,\n",
        "                             dtype = None,\n",
        "                             device = 'cpu',)\n",
        "\n",
        "some_rnd_tensor, some_rnd_tensor.dtype, some_rnd_tensor.device"
      ],
      "metadata": {
        "colab": {
          "base_uri": "https://localhost:8080/"
        },
        "id": "cZvduaQ0MNAr",
        "outputId": "d32a12ff-ddd8-445e-9750-4847b14bb04c"
      },
      "execution_count": null,
      "outputs": [
        {
          "output_type": "execute_result",
          "data": {
            "text/plain": [
              "(tensor([[0.8515, 0.6261, 0.8428, 0.5843],\n",
              "         [0.0861, 0.1090, 0.8824, 0.7022],\n",
              "         [0.7831, 0.7251, 0.5584, 0.7187]]),\n",
              " torch.float32,\n",
              " device(type='cpu'))"
            ]
          },
          "metadata": {},
          "execution_count": 71
        }
      ]
    },
    {
      "cell_type": "code",
      "source": [
        "some_rnd_tensor.to(device=\"cpu\") #this is changing the location devide but since I don't have cuda(gpu) or anything else linked I still wrote cpu\n",
        "some_rnd_tensor.device"
      ],
      "metadata": {
        "colab": {
          "base_uri": "https://localhost:8080/"
        },
        "id": "Uh7Pt0ocM0_I",
        "outputId": "d43b895b-42ab-4c26-aa1d-98fa81b20e45"
      },
      "execution_count": null,
      "outputs": [
        {
          "output_type": "execute_result",
          "data": {
            "text/plain": [
              "device(type='cpu')"
            ]
          },
          "metadata": {},
          "execution_count": 82
        }
      ]
    },
    {
      "cell_type": "markdown",
      "source": [
        "# *9. Tensor maths*\n",
        "\n",
        "+, -, /, scalar *, matrix *"
      ],
      "metadata": {
        "id": "ExfhpqQbQgSO"
      }
    },
    {
      "cell_type": "code",
      "source": [
        "plus_tensor = torch.tensor([[1, 2, 3],[4, 5, 6]])\n",
        "one_plus_tensor = torch.ones_like(plus_tensor)\n",
        "one_plus_tensor + plus_tensor"
      ],
      "metadata": {
        "colab": {
          "base_uri": "https://localhost:8080/"
        },
        "id": "oWZAVcM4Qz3Q",
        "outputId": "beb1c81d-8996-48a5-c308-cc25293585fa"
      },
      "execution_count": null,
      "outputs": [
        {
          "output_type": "execute_result",
          "data": {
            "text/plain": [
              "tensor([[2, 3, 4],\n",
              "        [5, 6, 7]])"
            ]
          },
          "metadata": {},
          "execution_count": 87
        }
      ]
    },
    {
      "cell_type": "code",
      "source": [
        "minus_tensor = torch.rand(2, 3, 1)\n",
        "minus_tensor"
      ],
      "metadata": {
        "colab": {
          "base_uri": "https://localhost:8080/"
        },
        "id": "ouWJTxtKmd53",
        "outputId": "17e3e4b3-72e6-4087-fb94-ba0e234ca1d7"
      },
      "execution_count": null,
      "outputs": [
        {
          "output_type": "execute_result",
          "data": {
            "text/plain": [
              "tensor([[[0.0022],\n",
              "         [0.5229],\n",
              "         [0.9980]],\n",
              "\n",
              "        [[0.1140],\n",
              "         [0.9251],\n",
              "         [0.2779]]])"
            ]
          },
          "metadata": {},
          "execution_count": 88
        }
      ]
    },
    {
      "cell_type": "code",
      "source": [
        "minus_tensor2 = torch.rand_like(minus_tensor)\n",
        "minus_tensor2"
      ],
      "metadata": {
        "colab": {
          "base_uri": "https://localhost:8080/"
        },
        "id": "YvHvNPAqmsDU",
        "outputId": "d8b006ba-1262-4854-d442-df97a572e8fd"
      },
      "execution_count": null,
      "outputs": [
        {
          "output_type": "execute_result",
          "data": {
            "text/plain": [
              "tensor([[[0.6229],\n",
              "         [0.0585],\n",
              "         [0.5972]],\n",
              "\n",
              "        [[0.1400],\n",
              "         [0.6545],\n",
              "         [0.3728]]])"
            ]
          },
          "metadata": {},
          "execution_count": 89
        }
      ]
    },
    {
      "cell_type": "code",
      "source": [
        "minus_tensor - minus_tensor2"
      ],
      "metadata": {
        "colab": {
          "base_uri": "https://localhost:8080/"
        },
        "id": "NvDQnG8_m2if",
        "outputId": "5497b064-55e4-4779-cf14-35a32549ed92"
      },
      "execution_count": null,
      "outputs": [
        {
          "output_type": "execute_result",
          "data": {
            "text/plain": [
              "tensor([[[-0.6207],\n",
              "         [ 0.4644],\n",
              "         [ 0.4008]],\n",
              "\n",
              "        [[-0.0260],\n",
              "         [ 0.2706],\n",
              "         [-0.0950]]])"
            ]
          },
          "metadata": {},
          "execution_count": 91
        }
      ]
    },
    {
      "cell_type": "code",
      "source": [
        "scalarmult_tensor = torch.randint(10, (2, 4))\n",
        "scalarmult_tensor"
      ],
      "metadata": {
        "colab": {
          "base_uri": "https://localhost:8080/"
        },
        "id": "g2tq4VlPm-Hf",
        "outputId": "28bd94cc-a6a3-4d03-cae9-5d83a1690880"
      },
      "execution_count": null,
      "outputs": [
        {
          "output_type": "execute_result",
          "data": {
            "text/plain": [
              "tensor([[5, 2, 8, 4],\n",
              "        [7, 9, 0, 7]])"
            ]
          },
          "metadata": {},
          "execution_count": 100
        }
      ]
    },
    {
      "cell_type": "code",
      "source": [
        "scalarmult_tensor * 2"
      ],
      "metadata": {
        "colab": {
          "base_uri": "https://localhost:8080/"
        },
        "id": "P2fWD_c8ntrG",
        "outputId": "b6a6277d-f5ff-491f-a5c4-12e6bbd240f5"
      },
      "execution_count": null,
      "outputs": [
        {
          "output_type": "execute_result",
          "data": {
            "text/plain": [
              "tensor([[10,  4, 16,  8],\n",
              "        [14, 18,  0, 14]])"
            ]
          },
          "metadata": {},
          "execution_count": 101
        }
      ]
    },
    {
      "cell_type": "code",
      "source": [
        "division = scalarmult_tensor / 2"
      ],
      "metadata": {
        "id": "OajQPBMWn4Qg"
      },
      "execution_count": null,
      "outputs": []
    },
    {
      "cell_type": "code",
      "source": [
        "scalarmult_tensor.dtype, division.dtype"
      ],
      "metadata": {
        "colab": {
          "base_uri": "https://localhost:8080/"
        },
        "id": "XVh9ax-pn-3H",
        "outputId": "58d5d560-55c2-4493-a804-7558ec2c0efc"
      },
      "execution_count": null,
      "outputs": [
        {
          "output_type": "execute_result",
          "data": {
            "text/plain": [
              "(torch.int64, torch.float32)"
            ]
          },
          "metadata": {},
          "execution_count": 105
        }
      ]
    },
    {
      "cell_type": "code",
      "source": [
        "multmatrix_tensor = torch.randint(6, (3, 3))\n",
        "multmatrix_tensor"
      ],
      "metadata": {
        "colab": {
          "base_uri": "https://localhost:8080/"
        },
        "id": "7nlzNdswoK09",
        "outputId": "de41fe30-f6f2-4ec0-b781-cb0d0bd51851"
      },
      "execution_count": null,
      "outputs": [
        {
          "output_type": "execute_result",
          "data": {
            "text/plain": [
              "tensor([[0, 3, 0],\n",
              "        [2, 0, 2],\n",
              "        [2, 1, 1]])"
            ]
          },
          "metadata": {},
          "execution_count": 106
        }
      ]
    },
    {
      "cell_type": "code",
      "source": [
        "multmatrix_tensor * 10"
      ],
      "metadata": {
        "colab": {
          "base_uri": "https://localhost:8080/"
        },
        "id": "xN2THYBOodEL",
        "outputId": "69db901d-756a-42f8-e8ed-5b6c4025947b"
      },
      "execution_count": null,
      "outputs": [
        {
          "output_type": "execute_result",
          "data": {
            "text/plain": [
              "tensor([[ 0, 30,  0],\n",
              "        [20,  0, 20],\n",
              "        [20, 10, 10]])"
            ]
          },
          "metadata": {},
          "execution_count": 107
        }
      ]
    },
    {
      "cell_type": "code",
      "source": [
        "multmatrix_tensor2 = torch.randint_like(multmatrix_tensor, 6)\n",
        "multmatrix_tensor2"
      ],
      "metadata": {
        "colab": {
          "base_uri": "https://localhost:8080/"
        },
        "id": "WoqXOCX2ogpD",
        "outputId": "b02fd545-25a5-4355-dddb-d8a34a78e5c5"
      },
      "execution_count": null,
      "outputs": [
        {
          "output_type": "execute_result",
          "data": {
            "text/plain": [
              "tensor([[3, 3, 5],\n",
              "        [3, 3, 4],\n",
              "        [3, 1, 5]])"
            ]
          },
          "metadata": {},
          "execution_count": 110
        }
      ]
    },
    {
      "cell_type": "code",
      "source": [
        "matproduct = multmatrix_tensor * multmatrix_tensor2\n",
        "matproduct #this is the element-wise multiplication of two matrices"
      ],
      "metadata": {
        "colab": {
          "base_uri": "https://localhost:8080/"
        },
        "id": "EL38IsjBpLB7",
        "outputId": "3dc41bf5-d006-41e0-d7a2-25637b02fb8e"
      },
      "execution_count": null,
      "outputs": [
        {
          "output_type": "execute_result",
          "data": {
            "text/plain": [
              "tensor([[0, 9, 0],\n",
              "        [6, 0, 8],\n",
              "        [6, 1, 5]])"
            ]
          },
          "metadata": {},
          "execution_count": 113
        }
      ]
    },
    {
      "cell_type": "code",
      "source": [
        "matdotproduct = torch.matmul(multmatrix_tensor, multmatrix_tensor2)\n",
        "matdotproduct"
      ],
      "metadata": {
        "colab": {
          "base_uri": "https://localhost:8080/"
        },
        "id": "pAGQe-c0qW6Q",
        "outputId": "9c1af575-4adf-4691-ad66-557b105d7c5d"
      },
      "execution_count": null,
      "outputs": [
        {
          "output_type": "execute_result",
          "data": {
            "text/plain": [
              "tensor([[ 9,  9, 12],\n",
              "        [12,  8, 20],\n",
              "        [12, 10, 19]])"
            ]
          },
          "metadata": {},
          "execution_count": 114
        }
      ]
    },
    {
      "cell_type": "code",
      "source": [
        "multmat_notsame = torch.tensor([2, 5, 4])\n",
        "multmat_notsame"
      ],
      "metadata": {
        "colab": {
          "base_uri": "https://localhost:8080/"
        },
        "id": "SO6I25hwqu2o",
        "outputId": "ab51c0a3-8ac3-41a6-d47f-78e34808c916"
      },
      "execution_count": null,
      "outputs": [
        {
          "output_type": "execute_result",
          "data": {
            "text/plain": [
              "tensor([2, 5, 4])"
            ]
          },
          "metadata": {},
          "execution_count": 115
        }
      ]
    },
    {
      "cell_type": "code",
      "source": [
        "torch.matmul(multmat_notsame, multmat_notsame)"
      ],
      "metadata": {
        "colab": {
          "base_uri": "https://localhost:8080/"
        },
        "id": "LIZJ1t0Qq6_8",
        "outputId": "39eeec0c-c58c-4d8d-f04e-57afda9504f8"
      },
      "execution_count": null,
      "outputs": [
        {
          "output_type": "execute_result",
          "data": {
            "text/plain": [
              "tensor(45)"
            ]
          },
          "metadata": {},
          "execution_count": 117
        }
      ]
    },
    {
      "cell_type": "code",
      "source": [
        "#matproduct is a 3x3 matrix\n",
        "twobytwo = torch.randint(1, 4, (2, 2))\n",
        "twobytwo"
      ],
      "metadata": {
        "colab": {
          "base_uri": "https://localhost:8080/"
        },
        "id": "ebseo-SGr6dv",
        "outputId": "ce80d79f-53f3-4985-da83-dfdf78b8d5d7"
      },
      "execution_count": null,
      "outputs": [
        {
          "output_type": "execute_result",
          "data": {
            "text/plain": [
              "tensor([[1, 3],\n",
              "        [3, 1]])"
            ]
          },
          "metadata": {},
          "execution_count": 119
        }
      ]
    },
    {
      "cell_type": "code",
      "source": [
        "#torch.matmul(twobytwo, matproduct) #results in the expected error of the wrong sizes"
      ],
      "metadata": {
        "id": "dcmGOoKksMVX"
      },
      "execution_count": null,
      "outputs": []
    },
    {
      "cell_type": "code",
      "source": [
        "threebytwo = torch.randint(6, (3, 2))\n",
        "threebytwo"
      ],
      "metadata": {
        "colab": {
          "base_uri": "https://localhost:8080/"
        },
        "id": "ugy-PjWwuj9X",
        "outputId": "6c280ea0-c856-4def-b73e-32f416ac487d"
      },
      "execution_count": null,
      "outputs": [
        {
          "output_type": "execute_result",
          "data": {
            "text/plain": [
              "tensor([[5, 5],\n",
              "        [0, 0],\n",
              "        [1, 1]])"
            ]
          },
          "metadata": {},
          "execution_count": 122
        }
      ]
    },
    {
      "cell_type": "code",
      "source": [
        "#torch.matmul(twobytwo, threebytwo) --> will result in an error\n",
        "#but we can use a transpose of threebytwo and make it 2x3 and then the inner dimensions will match\n",
        "\n",
        "torch.matmul(twobytwo, threebytwo.T)"
      ],
      "metadata": {
        "colab": {
          "base_uri": "https://localhost:8080/"
        },
        "id": "xh68ldm3u2WY",
        "outputId": "24248607-256d-4a61-f63b-8544d0253182"
      },
      "execution_count": null,
      "outputs": [
        {
          "output_type": "execute_result",
          "data": {
            "text/plain": [
              "tensor([[20,  0,  4],\n",
              "        [20,  0,  4]])"
            ]
          },
          "metadata": {},
          "execution_count": 124
        }
      ]
    },
    {
      "cell_type": "markdown",
      "source": [
        "# *10. Tensor Aggregation (min, max, mean, sum, etc.)*"
      ],
      "metadata": {
        "id": "uhB1Ir_rwfus"
      }
    },
    {
      "cell_type": "code",
      "source": [
        "testing_agg_tensor = torch.arange(5, 51, 5)\n",
        "testing_agg_tensor"
      ],
      "metadata": {
        "colab": {
          "base_uri": "https://localhost:8080/"
        },
        "id": "J6PAX9F5wnPL",
        "outputId": "9db1008a-7b60-47d4-8e8f-305b78e05c81"
      },
      "execution_count": null,
      "outputs": [
        {
          "output_type": "execute_result",
          "data": {
            "text/plain": [
              "tensor([ 5, 10, 15, 20, 25, 30, 35, 40, 45, 50])"
            ]
          },
          "metadata": {},
          "execution_count": 125
        }
      ]
    },
    {
      "cell_type": "code",
      "source": [
        "%%time\n",
        "testing_agg_tensor.min()"
      ],
      "metadata": {
        "colab": {
          "base_uri": "https://localhost:8080/"
        },
        "id": "NZnHYpZX1p3h",
        "outputId": "448bb638-623b-4bed-d7d1-cc2f82822c74"
      },
      "execution_count": null,
      "outputs": [
        {
          "output_type": "stream",
          "name": "stdout",
          "text": [
            "CPU times: user 91 µs, sys: 0 ns, total: 91 µs\n",
            "Wall time: 96.1 µs\n"
          ]
        },
        {
          "output_type": "execute_result",
          "data": {
            "text/plain": [
              "tensor(5)"
            ]
          },
          "metadata": {},
          "execution_count": 139
        }
      ]
    },
    {
      "cell_type": "code",
      "source": [
        "%%time\n",
        "torch.min(testing_agg_tensor)"
      ],
      "metadata": {
        "colab": {
          "base_uri": "https://localhost:8080/"
        },
        "id": "PfbgD3eV11Z5",
        "outputId": "20fb7320-f44f-4837-f848-f6acd38c41b9"
      },
      "execution_count": null,
      "outputs": [
        {
          "output_type": "stream",
          "name": "stdout",
          "text": [
            "CPU times: user 569 µs, sys: 35 µs, total: 604 µs\n",
            "Wall time: 535 µs\n"
          ]
        },
        {
          "output_type": "execute_result",
          "data": {
            "text/plain": [
              "tensor(5)"
            ]
          },
          "metadata": {},
          "execution_count": 140
        }
      ]
    },
    {
      "cell_type": "code",
      "source": [
        "testing_agg_tensor.max()"
      ],
      "metadata": {
        "colab": {
          "base_uri": "https://localhost:8080/"
        },
        "id": "NrYDrxsE2OJc",
        "outputId": "8120fda5-e34c-4050-aa67-25046a0d58bc"
      },
      "execution_count": null,
      "outputs": [
        {
          "output_type": "execute_result",
          "data": {
            "text/plain": [
              "tensor(50)"
            ]
          },
          "metadata": {},
          "execution_count": 141
        }
      ]
    },
    {
      "cell_type": "code",
      "source": [
        "# testing_agg_tensor.mean() --> causes\n",
        "#RuntimeError: mean(): could not infer output dtype. Input dtype must be either a floating point or complex dtype. Got: Long"
      ],
      "metadata": {
        "id": "ka3NieL_2TAJ"
      },
      "execution_count": null,
      "outputs": []
    },
    {
      "cell_type": "code",
      "source": [
        "testing_agg_tensor.type(torch.float16).mean()"
      ],
      "metadata": {
        "colab": {
          "base_uri": "https://localhost:8080/"
        },
        "id": "VVeEc0Je2jwo",
        "outputId": "8dbd4972-82dc-49e7-d594-66f0d6b2d469"
      },
      "execution_count": null,
      "outputs": [
        {
          "output_type": "execute_result",
          "data": {
            "text/plain": [
              "tensor(27.5000, dtype=torch.float16)"
            ]
          },
          "metadata": {},
          "execution_count": 146
        }
      ]
    },
    {
      "cell_type": "code",
      "source": [
        "%%time\n",
        "testing_agg_tensor.type(torch.float16).mean()"
      ],
      "metadata": {
        "colab": {
          "base_uri": "https://localhost:8080/"
        },
        "id": "n9Ol6tDK3H3v",
        "outputId": "0e70e61b-7f84-4e87-85b8-c4114b688c6b"
      },
      "execution_count": null,
      "outputs": [
        {
          "output_type": "stream",
          "name": "stdout",
          "text": [
            "CPU times: user 149 µs, sys: 0 ns, total: 149 µs\n",
            "Wall time: 154 µs\n"
          ]
        },
        {
          "output_type": "execute_result",
          "data": {
            "text/plain": [
              "tensor(27.5000, dtype=torch.float16)"
            ]
          },
          "metadata": {},
          "execution_count": 155
        }
      ]
    },
    {
      "cell_type": "code",
      "source": [
        "%%time\n",
        "testing_agg_tensor.type(torch.float32).mean()"
      ],
      "metadata": {
        "colab": {
          "base_uri": "https://localhost:8080/"
        },
        "id": "K6SGQ3A-3LJV",
        "outputId": "37f5e181-5eb8-4fdc-8770-c681e58f88bd"
      },
      "execution_count": null,
      "outputs": [
        {
          "output_type": "stream",
          "name": "stdout",
          "text": [
            "CPU times: user 1.22 ms, sys: 0 ns, total: 1.22 ms\n",
            "Wall time: 1.23 ms\n"
          ]
        },
        {
          "output_type": "execute_result",
          "data": {
            "text/plain": [
              "tensor(27.5000)"
            ]
          },
          "metadata": {},
          "execution_count": 156
        }
      ]
    },
    {
      "cell_type": "code",
      "source": [
        "testing_agg_tensor.sum()"
      ],
      "metadata": {
        "colab": {
          "base_uri": "https://localhost:8080/"
        },
        "id": "btRChTea3ZIR",
        "outputId": "7660cb22-0aae-4b9d-97e3-6ff050bcc53a"
      },
      "execution_count": null,
      "outputs": [
        {
          "output_type": "execute_result",
          "data": {
            "text/plain": [
              "tensor(275)"
            ]
          },
          "metadata": {},
          "execution_count": 157
        }
      ]
    },
    {
      "cell_type": "code",
      "source": [
        "testing_agg_tensor.median()"
      ],
      "metadata": {
        "colab": {
          "base_uri": "https://localhost:8080/"
        },
        "id": "AulvQ1AP4pyV",
        "outputId": "6d2a8129-7c21-46af-b243-35c107868dc0"
      },
      "execution_count": null,
      "outputs": [
        {
          "output_type": "execute_result",
          "data": {
            "text/plain": [
              "tensor(25)"
            ]
          },
          "metadata": {},
          "execution_count": 158
        }
      ]
    },
    {
      "cell_type": "code",
      "source": [
        "testing_agg_tensor.argmin() #returns the position of the smallest element"
      ],
      "metadata": {
        "colab": {
          "base_uri": "https://localhost:8080/"
        },
        "id": "JvS76Zt35OCf",
        "outputId": "caf3f04a-d07d-42ed-c6fc-67018c677fda"
      },
      "execution_count": null,
      "outputs": [
        {
          "output_type": "execute_result",
          "data": {
            "text/plain": [
              "tensor(0)"
            ]
          },
          "metadata": {},
          "execution_count": 159
        }
      ]
    },
    {
      "cell_type": "code",
      "source": [
        "testing_agg_tensor.argmax()"
      ],
      "metadata": {
        "colab": {
          "base_uri": "https://localhost:8080/"
        },
        "id": "0Z-sc8_e5YYM",
        "outputId": "055ff475-2731-4c15-8202-77cdad881d19"
      },
      "execution_count": null,
      "outputs": [
        {
          "output_type": "execute_result",
          "data": {
            "text/plain": [
              "tensor(9)"
            ]
          },
          "metadata": {},
          "execution_count": 160
        }
      ]
    },
    {
      "cell_type": "markdown",
      "source": [
        "# *11. Reshaping, Stacking, (Un)squeezing, Permute*"
      ],
      "metadata": {
        "id": "FnwLHJ6EC6by"
      }
    },
    {
      "cell_type": "code",
      "source": [
        "import torch\n",
        "\n",
        "test_11 = torch.arange(1, 20, 2);\n",
        "test_11, test_11.shape"
      ],
      "metadata": {
        "id": "Lyifzhb0DGKV",
        "colab": {
          "base_uri": "https://localhost:8080/"
        },
        "outputId": "c84e1ff9-add7-459e-f9bf-1e561b133124"
      },
      "execution_count": null,
      "outputs": [
        {
          "output_type": "execute_result",
          "data": {
            "text/plain": [
              "(tensor([ 1,  3,  5,  7,  9, 11, 13, 15, 17, 19]), torch.Size([10]))"
            ]
          },
          "metadata": {},
          "execution_count": 30
        }
      ]
    },
    {
      "cell_type": "code",
      "source": [
        "test_reshape = torch.reshape(test_11, [1, 10])\n",
        "test_reshape"
      ],
      "metadata": {
        "colab": {
          "base_uri": "https://localhost:8080/"
        },
        "id": "VUCZ_mmsK7tq",
        "outputId": "2d084c48-4835-4f39-90d1-89abf3a77e71"
      },
      "execution_count": null,
      "outputs": [
        {
          "output_type": "execute_result",
          "data": {
            "text/plain": [
              "tensor([[ 1,  3,  5,  7,  9, 11, 13, 15, 17, 19]])"
            ]
          },
          "metadata": {},
          "execution_count": 7
        }
      ]
    },
    {
      "cell_type": "code",
      "source": [
        "test_reshape = torch.reshape(test_11, [1, 1, 1, 10])\n",
        "test_reshape"
      ],
      "metadata": {
        "colab": {
          "base_uri": "https://localhost:8080/"
        },
        "id": "a-QgAZJPLLh9",
        "outputId": "61b30b4c-268b-4834-dcc0-6da69c15f85c"
      },
      "execution_count": null,
      "outputs": [
        {
          "output_type": "execute_result",
          "data": {
            "text/plain": [
              "tensor([[[[ 1,  3,  5,  7,  9, 11, 13, 15, 17, 19]]]])"
            ]
          },
          "metadata": {},
          "execution_count": 8
        }
      ]
    },
    {
      "cell_type": "code",
      "source": [
        "test_reshape = torch.reshape(test_11, [2, 5])\n",
        "test_reshape"
      ],
      "metadata": {
        "colab": {
          "base_uri": "https://localhost:8080/"
        },
        "id": "X6aSTxiSLO2k",
        "outputId": "09e66250-4da4-4023-b46a-055ec9b25c07"
      },
      "execution_count": null,
      "outputs": [
        {
          "output_type": "execute_result",
          "data": {
            "text/plain": [
              "tensor([[ 1,  3,  5,  7,  9],\n",
              "        [11, 13, 15, 17, 19]])"
            ]
          },
          "metadata": {},
          "execution_count": 9
        }
      ]
    },
    {
      "cell_type": "code",
      "source": [
        "test_reshape = torch.reshape(test_11, [10, 1])\n",
        "test_reshape"
      ],
      "metadata": {
        "colab": {
          "base_uri": "https://localhost:8080/"
        },
        "id": "OvbNq_O8LSNY",
        "outputId": "2d24925a-d9d5-40e3-caaf-be9c48475fcf"
      },
      "execution_count": null,
      "outputs": [
        {
          "output_type": "execute_result",
          "data": {
            "text/plain": [
              "tensor([[ 1],\n",
              "        [ 3],\n",
              "        [ 5],\n",
              "        [ 7],\n",
              "        [ 9],\n",
              "        [11],\n",
              "        [13],\n",
              "        [15],\n",
              "        [17],\n",
              "        [19]])"
            ]
          },
          "metadata": {},
          "execution_count": 10
        }
      ]
    },
    {
      "cell_type": "code",
      "source": [
        "test_reshape = torch.reshape(test_11, [2, 1, 5])\n",
        "test_reshape"
      ],
      "metadata": {
        "colab": {
          "base_uri": "https://localhost:8080/"
        },
        "id": "OkHVD7bcLXvm",
        "outputId": "75a7bcb8-d1ad-4b56-eeba-9dec7f3aac52"
      },
      "execution_count": null,
      "outputs": [
        {
          "output_type": "execute_result",
          "data": {
            "text/plain": [
              "tensor([[[ 1,  3,  5,  7,  9]],\n",
              "\n",
              "        [[11, 13, 15, 17, 19]]])"
            ]
          },
          "metadata": {},
          "execution_count": 11
        }
      ]
    },
    {
      "cell_type": "code",
      "source": [
        "test_reshape = torch.reshape(test_11, [10, 1, 1])\n",
        "test_reshape"
      ],
      "metadata": {
        "colab": {
          "base_uri": "https://localhost:8080/"
        },
        "id": "7NjSWYTkLhId",
        "outputId": "68e71598-44aa-4b57-b550-214a1ca08075"
      },
      "execution_count": null,
      "outputs": [
        {
          "output_type": "execute_result",
          "data": {
            "text/plain": [
              "tensor([[[ 1]],\n",
              "\n",
              "        [[ 3]],\n",
              "\n",
              "        [[ 5]],\n",
              "\n",
              "        [[ 7]],\n",
              "\n",
              "        [[ 9]],\n",
              "\n",
              "        [[11]],\n",
              "\n",
              "        [[13]],\n",
              "\n",
              "        [[15]],\n",
              "\n",
              "        [[17]],\n",
              "\n",
              "        [[19]]])"
            ]
          },
          "metadata": {},
          "execution_count": 12
        }
      ]
    },
    {
      "cell_type": "code",
      "source": [
        "test_view = test_11.view(10, 1)\n",
        "print(test_view, \"\\n\", test_11)"
      ],
      "metadata": {
        "colab": {
          "base_uri": "https://localhost:8080/"
        },
        "id": "6SUrS6ZfLwd5",
        "outputId": "4946d72d-ec9c-47d2-a4ed-14ada50f27dc"
      },
      "execution_count": null,
      "outputs": [
        {
          "output_type": "stream",
          "name": "stdout",
          "text": [
            "tensor([[ 1],\n",
            "        [ 3],\n",
            "        [ 5],\n",
            "        [ 7],\n",
            "        [ 9],\n",
            "        [11],\n",
            "        [13],\n",
            "        [15],\n",
            "        [17],\n",
            "        [19]]) \n",
            " tensor([ 1,  3,  5,  7,  9, 11, 13, 15, 17, 19])\n"
          ]
        }
      ]
    },
    {
      "cell_type": "code",
      "source": [
        "test_view[0, 0] = 5\n",
        "print(test_view, \"\\n\", test_11)"
      ],
      "metadata": {
        "colab": {
          "base_uri": "https://localhost:8080/"
        },
        "id": "m0qT2dMUNI9X",
        "outputId": "9bb878db-d489-4b74-baac-c69f515ea220"
      },
      "execution_count": null,
      "outputs": [
        {
          "output_type": "stream",
          "name": "stdout",
          "text": [
            "tensor([[ 5],\n",
            "        [ 3],\n",
            "        [ 5],\n",
            "        [ 7],\n",
            "        [ 9],\n",
            "        [11],\n",
            "        [13],\n",
            "        [15],\n",
            "        [17],\n",
            "        [19]]) \n",
            " tensor([ 5,  3,  5,  7,  9, 11, 13, 15, 17, 19])\n"
          ]
        }
      ]
    },
    {
      "cell_type": "code",
      "source": [
        "test_11[9] = 0\n",
        "print(test_view, \"\\n\", test_11)"
      ],
      "metadata": {
        "colab": {
          "base_uri": "https://localhost:8080/"
        },
        "id": "fGBxQaCvNmd1",
        "outputId": "915cb4b7-4a0a-4f99-f997-e8f2bc606166"
      },
      "execution_count": null,
      "outputs": [
        {
          "output_type": "stream",
          "name": "stdout",
          "text": [
            "tensor([[ 5],\n",
            "        [ 3],\n",
            "        [ 5],\n",
            "        [ 7],\n",
            "        [ 9],\n",
            "        [11],\n",
            "        [13],\n",
            "        [15],\n",
            "        [17],\n",
            "        [ 0]]) \n",
            " tensor([ 5,  3,  5,  7,  9, 11, 13, 15, 17,  0])\n"
          ]
        }
      ]
    },
    {
      "cell_type": "code",
      "source": [
        "test_stack = torch.stack([test_11, test_11])\n",
        "test_stack"
      ],
      "metadata": {
        "colab": {
          "base_uri": "https://localhost:8080/"
        },
        "id": "eoBLmsnROGVf",
        "outputId": "8df4d103-9ab8-4166-81de-69d6f60e2fd3"
      },
      "execution_count": null,
      "outputs": [
        {
          "output_type": "execute_result",
          "data": {
            "text/plain": [
              "tensor([[ 5,  3,  5,  7,  9, 11, 13, 15, 17,  0],\n",
              "        [ 5,  3,  5,  7,  9, 11, 13, 15, 17,  0]])"
            ]
          },
          "metadata": {},
          "execution_count": 38
        }
      ]
    },
    {
      "cell_type": "code",
      "source": [
        "test_stack = torch.stack([test_11, test_11, test_11, test_11], dim=-0)\n",
        "test_stack"
      ],
      "metadata": {
        "colab": {
          "base_uri": "https://localhost:8080/"
        },
        "id": "L805V6jDOXC7",
        "outputId": "047e81fb-431a-4301-f726-5076dfdf073d"
      },
      "execution_count": null,
      "outputs": [
        {
          "output_type": "execute_result",
          "data": {
            "text/plain": [
              "tensor([[ 5,  3,  5,  7,  9, 11, 13, 15, 17,  0],\n",
              "        [ 5,  3,  5,  7,  9, 11, 13, 15, 17,  0],\n",
              "        [ 5,  3,  5,  7,  9, 11, 13, 15, 17,  0],\n",
              "        [ 5,  3,  5,  7,  9, 11, 13, 15, 17,  0]])"
            ]
          },
          "metadata": {},
          "execution_count": 50
        }
      ]
    },
    {
      "cell_type": "code",
      "source": [
        "test_111 = torch.randint(5, (1, 2, 3))\n",
        "test_111"
      ],
      "metadata": {
        "colab": {
          "base_uri": "https://localhost:8080/"
        },
        "id": "xB8mDZ1ZWw0b",
        "outputId": "d1f58bca-6c87-4c09-df71-c2c6fd12e5b6"
      },
      "execution_count": null,
      "outputs": [
        {
          "output_type": "execute_result",
          "data": {
            "text/plain": [
              "tensor([[[2, 4, 4],\n",
              "         [4, 0, 3]]])"
            ]
          },
          "metadata": {},
          "execution_count": 77
        }
      ]
    },
    {
      "cell_type": "code",
      "source": [
        "test_sqz = torch.squeeze(test_111)\n",
        "test_sqz"
      ],
      "metadata": {
        "colab": {
          "base_uri": "https://localhost:8080/"
        },
        "id": "ltvRCM3RXEaS",
        "outputId": "0544f3fb-e2e4-4164-bf56-dfb315d907a3"
      },
      "execution_count": null,
      "outputs": [
        {
          "output_type": "execute_result",
          "data": {
            "text/plain": [
              "tensor([[2, 4, 4],\n",
              "        [4, 0, 3]])"
            ]
          },
          "metadata": {},
          "execution_count": 84
        }
      ]
    },
    {
      "cell_type": "code",
      "source": [
        "test_sqz.unsqueeze(dim=2)"
      ],
      "metadata": {
        "colab": {
          "base_uri": "https://localhost:8080/"
        },
        "id": "9uZTZaZ3YkTS",
        "outputId": "62fff551-7a1d-4cca-c0c8-7911c98ab36b"
      },
      "execution_count": null,
      "outputs": [
        {
          "output_type": "execute_result",
          "data": {
            "text/plain": [
              "tensor([[[2],\n",
              "         [4],\n",
              "         [4]],\n",
              "\n",
              "        [[4],\n",
              "         [0],\n",
              "         [3]]])"
            ]
          },
          "metadata": {},
          "execution_count": 89
        }
      ]
    },
    {
      "cell_type": "code",
      "source": [
        "test_112_img = torch.rand(255, 255, 3)\n",
        "test_112_img"
      ],
      "metadata": {
        "colab": {
          "base_uri": "https://localhost:8080/"
        },
        "id": "ird05Buna5vU",
        "outputId": "58767521-e186-423a-85da-b9750bcfd314"
      },
      "execution_count": null,
      "outputs": [
        {
          "output_type": "execute_result",
          "data": {
            "text/plain": [
              "tensor([[[0.2429, 0.2083, 0.0680],\n",
              "         [0.1217, 0.5065, 0.5690],\n",
              "         [0.6782, 0.3492, 0.4975],\n",
              "         ...,\n",
              "         [0.4060, 0.9644, 0.1535],\n",
              "         [0.4760, 0.8624, 0.2107],\n",
              "         [0.8566, 0.2702, 0.4636]],\n",
              "\n",
              "        [[0.4791, 0.4142, 0.2625],\n",
              "         [0.9282, 0.1774, 0.5177],\n",
              "         [0.4504, 0.0120, 0.3353],\n",
              "         ...,\n",
              "         [0.1806, 0.1948, 0.7910],\n",
              "         [0.8899, 0.1376, 0.0449],\n",
              "         [0.6168, 0.3283, 0.2735]],\n",
              "\n",
              "        [[0.6926, 0.9829, 0.9999],\n",
              "         [0.8508, 0.4071, 0.2063],\n",
              "         [0.5743, 0.9052, 0.8379],\n",
              "         ...,\n",
              "         [0.3455, 0.1806, 0.3412],\n",
              "         [0.1473, 0.1248, 0.0824],\n",
              "         [0.3675, 0.4803, 0.9717]],\n",
              "\n",
              "        ...,\n",
              "\n",
              "        [[0.6717, 0.2124, 0.9649],\n",
              "         [0.4454, 0.8084, 0.0336],\n",
              "         [0.1782, 0.6691, 0.6045],\n",
              "         ...,\n",
              "         [0.5583, 0.1123, 0.6382],\n",
              "         [0.8951, 0.6208, 0.7568],\n",
              "         [0.6013, 0.4189, 0.3824]],\n",
              "\n",
              "        [[0.5329, 0.1500, 0.6710],\n",
              "         [0.0660, 0.6279, 0.9239],\n",
              "         [0.3471, 0.7025, 0.5947],\n",
              "         ...,\n",
              "         [0.6596, 0.8771, 0.4266],\n",
              "         [0.9859, 0.7571, 0.8779],\n",
              "         [0.1559, 0.4509, 0.1051]],\n",
              "\n",
              "        [[0.1055, 0.7046, 0.8665],\n",
              "         [0.3151, 0.7035, 0.4118],\n",
              "         [0.0712, 0.7733, 0.5047],\n",
              "         ...,\n",
              "         [0.4927, 0.7053, 0.9927],\n",
              "         [0.8812, 0.5162, 0.8599],\n",
              "         [0.3890, 0.7221, 0.9629]]])"
            ]
          },
          "metadata": {},
          "execution_count": 90
        }
      ]
    },
    {
      "cell_type": "code",
      "source": [
        "test_permute = test_112_img.permute(2, 0, 1)\n",
        "test_permute"
      ],
      "metadata": {
        "colab": {
          "base_uri": "https://localhost:8080/"
        },
        "id": "_Zo0MY9ObObL",
        "outputId": "78e8d5b0-758e-45ce-f29f-0b285cc83dc5"
      },
      "execution_count": null,
      "outputs": [
        {
          "output_type": "execute_result",
          "data": {
            "text/plain": [
              "tensor([[[0.2429, 0.1217, 0.6782,  ..., 0.4060, 0.4760, 0.8566],\n",
              "         [0.4791, 0.9282, 0.4504,  ..., 0.1806, 0.8899, 0.6168],\n",
              "         [0.6926, 0.8508, 0.5743,  ..., 0.3455, 0.1473, 0.3675],\n",
              "         ...,\n",
              "         [0.6717, 0.4454, 0.1782,  ..., 0.5583, 0.8951, 0.6013],\n",
              "         [0.5329, 0.0660, 0.3471,  ..., 0.6596, 0.9859, 0.1559],\n",
              "         [0.1055, 0.3151, 0.0712,  ..., 0.4927, 0.8812, 0.3890]],\n",
              "\n",
              "        [[0.2083, 0.5065, 0.3492,  ..., 0.9644, 0.8624, 0.2702],\n",
              "         [0.4142, 0.1774, 0.0120,  ..., 0.1948, 0.1376, 0.3283],\n",
              "         [0.9829, 0.4071, 0.9052,  ..., 0.1806, 0.1248, 0.4803],\n",
              "         ...,\n",
              "         [0.2124, 0.8084, 0.6691,  ..., 0.1123, 0.6208, 0.4189],\n",
              "         [0.1500, 0.6279, 0.7025,  ..., 0.8771, 0.7571, 0.4509],\n",
              "         [0.7046, 0.7035, 0.7733,  ..., 0.7053, 0.5162, 0.7221]],\n",
              "\n",
              "        [[0.0680, 0.5690, 0.4975,  ..., 0.1535, 0.2107, 0.4636],\n",
              "         [0.2625, 0.5177, 0.3353,  ..., 0.7910, 0.0449, 0.2735],\n",
              "         [0.9999, 0.2063, 0.8379,  ..., 0.3412, 0.0824, 0.9717],\n",
              "         ...,\n",
              "         [0.9649, 0.0336, 0.6045,  ..., 0.6382, 0.7568, 0.3824],\n",
              "         [0.6710, 0.9239, 0.5947,  ..., 0.4266, 0.8779, 0.1051],\n",
              "         [0.8665, 0.4118, 0.5047,  ..., 0.9927, 0.8599, 0.9629]]])"
            ]
          },
          "metadata": {},
          "execution_count": 95
        }
      ]
    },
    {
      "cell_type": "code",
      "source": [
        "test_112_img[0, 0, 0] = 0.123\n",
        "print(test_112_img, \"\\n\", test_permute)"
      ],
      "metadata": {
        "colab": {
          "base_uri": "https://localhost:8080/"
        },
        "id": "u61AjbvZbuY7",
        "outputId": "eac91d48-85f6-4670-8360-afc76b7d6e7b"
      },
      "execution_count": null,
      "outputs": [
        {
          "output_type": "stream",
          "name": "stdout",
          "text": [
            "tensor([[[0.1230, 0.2083, 0.0680],\n",
            "         [0.1217, 0.5065, 0.5690],\n",
            "         [0.6782, 0.3492, 0.4975],\n",
            "         ...,\n",
            "         [0.4060, 0.9644, 0.1535],\n",
            "         [0.4760, 0.8624, 0.2107],\n",
            "         [0.8566, 0.2702, 0.4636]],\n",
            "\n",
            "        [[0.4791, 0.4142, 0.2625],\n",
            "         [0.9282, 0.1774, 0.5177],\n",
            "         [0.4504, 0.0120, 0.3353],\n",
            "         ...,\n",
            "         [0.1806, 0.1948, 0.7910],\n",
            "         [0.8899, 0.1376, 0.0449],\n",
            "         [0.6168, 0.3283, 0.2735]],\n",
            "\n",
            "        [[0.6926, 0.9829, 0.9999],\n",
            "         [0.8508, 0.4071, 0.2063],\n",
            "         [0.5743, 0.9052, 0.8379],\n",
            "         ...,\n",
            "         [0.3455, 0.1806, 0.3412],\n",
            "         [0.1473, 0.1248, 0.0824],\n",
            "         [0.3675, 0.4803, 0.9717]],\n",
            "\n",
            "        ...,\n",
            "\n",
            "        [[0.6717, 0.2124, 0.9649],\n",
            "         [0.4454, 0.8084, 0.0336],\n",
            "         [0.1782, 0.6691, 0.6045],\n",
            "         ...,\n",
            "         [0.5583, 0.1123, 0.6382],\n",
            "         [0.8951, 0.6208, 0.7568],\n",
            "         [0.6013, 0.4189, 0.3824]],\n",
            "\n",
            "        [[0.5329, 0.1500, 0.6710],\n",
            "         [0.0660, 0.6279, 0.9239],\n",
            "         [0.3471, 0.7025, 0.5947],\n",
            "         ...,\n",
            "         [0.6596, 0.8771, 0.4266],\n",
            "         [0.9859, 0.7571, 0.8779],\n",
            "         [0.1559, 0.4509, 0.1051]],\n",
            "\n",
            "        [[0.1055, 0.7046, 0.8665],\n",
            "         [0.3151, 0.7035, 0.4118],\n",
            "         [0.0712, 0.7733, 0.5047],\n",
            "         ...,\n",
            "         [0.4927, 0.7053, 0.9927],\n",
            "         [0.8812, 0.5162, 0.8599],\n",
            "         [0.3890, 0.7221, 0.9629]]]) \n",
            " tensor([[[0.1230, 0.1217, 0.6782,  ..., 0.4060, 0.4760, 0.8566],\n",
            "         [0.4791, 0.9282, 0.4504,  ..., 0.1806, 0.8899, 0.6168],\n",
            "         [0.6926, 0.8508, 0.5743,  ..., 0.3455, 0.1473, 0.3675],\n",
            "         ...,\n",
            "         [0.6717, 0.4454, 0.1782,  ..., 0.5583, 0.8951, 0.6013],\n",
            "         [0.5329, 0.0660, 0.3471,  ..., 0.6596, 0.9859, 0.1559],\n",
            "         [0.1055, 0.3151, 0.0712,  ..., 0.4927, 0.8812, 0.3890]],\n",
            "\n",
            "        [[0.2083, 0.5065, 0.3492,  ..., 0.9644, 0.8624, 0.2702],\n",
            "         [0.4142, 0.1774, 0.0120,  ..., 0.1948, 0.1376, 0.3283],\n",
            "         [0.9829, 0.4071, 0.9052,  ..., 0.1806, 0.1248, 0.4803],\n",
            "         ...,\n",
            "         [0.2124, 0.8084, 0.6691,  ..., 0.1123, 0.6208, 0.4189],\n",
            "         [0.1500, 0.6279, 0.7025,  ..., 0.8771, 0.7571, 0.4509],\n",
            "         [0.7046, 0.7035, 0.7733,  ..., 0.7053, 0.5162, 0.7221]],\n",
            "\n",
            "        [[0.0680, 0.5690, 0.4975,  ..., 0.1535, 0.2107, 0.4636],\n",
            "         [0.2625, 0.5177, 0.3353,  ..., 0.7910, 0.0449, 0.2735],\n",
            "         [0.9999, 0.2063, 0.8379,  ..., 0.3412, 0.0824, 0.9717],\n",
            "         ...,\n",
            "         [0.9649, 0.0336, 0.6045,  ..., 0.6382, 0.7568, 0.3824],\n",
            "         [0.6710, 0.9239, 0.5947,  ..., 0.4266, 0.8779, 0.1051],\n",
            "         [0.8665, 0.4118, 0.5047,  ..., 0.9927, 0.8599, 0.9629]]])\n"
          ]
        }
      ]
    },
    {
      "cell_type": "code",
      "source": [
        "#do that laast part abt indexing"
      ],
      "metadata": {
        "id": "3QhVMwiUivqd"
      },
      "execution_count": null,
      "outputs": []
    },
    {
      "cell_type": "markdown",
      "source": [
        "# *12. Indexing*"
      ],
      "metadata": {
        "id": "A9P5GrtnfUWQ"
      }
    },
    {
      "cell_type": "code",
      "source": [
        "import torch\n",
        "\n",
        "test_12 = torch.randint(10, (5, 4))\n",
        "test_12"
      ],
      "metadata": {
        "colab": {
          "base_uri": "https://localhost:8080/"
        },
        "id": "yyJsm0xNfaLP",
        "outputId": "ad3e4972-7af7-49af-cfc3-90fc1df07990"
      },
      "execution_count": null,
      "outputs": [
        {
          "output_type": "execute_result",
          "data": {
            "text/plain": [
              "tensor([[1, 6, 4, 7],\n",
              "        [2, 3, 7, 8],\n",
              "        [7, 4, 3, 0],\n",
              "        [6, 1, 5, 4],\n",
              "        [3, 1, 7, 8]])"
            ]
          },
          "metadata": {},
          "execution_count": 3
        }
      ]
    },
    {
      "cell_type": "code",
      "source": [
        "test_12[4]"
      ],
      "metadata": {
        "colab": {
          "base_uri": "https://localhost:8080/"
        },
        "id": "qSV5ghxGf5Qw",
        "outputId": "4e8f55b5-d23e-406b-e637-70bb802a3d8d"
      },
      "execution_count": null,
      "outputs": [
        {
          "output_type": "execute_result",
          "data": {
            "text/plain": [
              "tensor([3, 1, 7, 8])"
            ]
          },
          "metadata": {},
          "execution_count": 7
        }
      ]
    },
    {
      "cell_type": "code",
      "source": [
        "test_12[3][2]"
      ],
      "metadata": {
        "colab": {
          "base_uri": "https://localhost:8080/"
        },
        "id": "9OLgNPXigEpU",
        "outputId": "d9969517-7d52-4d96-8aa7-a45ac171c389"
      },
      "execution_count": null,
      "outputs": [
        {
          "output_type": "execute_result",
          "data": {
            "text/plain": [
              "tensor(5)"
            ]
          },
          "metadata": {},
          "execution_count": 8
        }
      ]
    },
    {
      "cell_type": "code",
      "source": [
        "test_122 = torch.randint(11, (2, 3, 3))\n",
        "test_122"
      ],
      "metadata": {
        "colab": {
          "base_uri": "https://localhost:8080/"
        },
        "id": "xs4N4-2-gInz",
        "outputId": "6ca418f9-426d-419f-866f-efe8cb683e44"
      },
      "execution_count": null,
      "outputs": [
        {
          "output_type": "execute_result",
          "data": {
            "text/plain": [
              "tensor([[[ 2,  9,  9],\n",
              "         [ 1,  0,  7],\n",
              "         [ 3,  9,  1]],\n",
              "\n",
              "        [[10,  0,  1],\n",
              "         [ 1,  7,  6],\n",
              "         [ 6,  2,  3]]])"
            ]
          },
          "metadata": {},
          "execution_count": 9
        }
      ]
    },
    {
      "cell_type": "code",
      "source": [
        "test_122[0]"
      ],
      "metadata": {
        "colab": {
          "base_uri": "https://localhost:8080/"
        },
        "id": "lRGi4dbagUJ2",
        "outputId": "ad942258-f4cd-4f4b-d44b-d6eefddfad67"
      },
      "execution_count": null,
      "outputs": [
        {
          "output_type": "execute_result",
          "data": {
            "text/plain": [
              "tensor([[2, 9, 9],\n",
              "        [1, 0, 7],\n",
              "        [3, 9, 1]])"
            ]
          },
          "metadata": {},
          "execution_count": 10
        }
      ]
    },
    {
      "cell_type": "code",
      "source": [
        "test_122[1][1][1]"
      ],
      "metadata": {
        "colab": {
          "base_uri": "https://localhost:8080/"
        },
        "id": "OObudyhZgZ9z",
        "outputId": "97a96422-bf33-442d-cdd4-6af2e9351b92"
      },
      "execution_count": null,
      "outputs": [
        {
          "output_type": "execute_result",
          "data": {
            "text/plain": [
              "tensor(7)"
            ]
          },
          "metadata": {},
          "execution_count": 11
        }
      ]
    },
    {
      "cell_type": "code",
      "source": [
        "test_122[:, 0]"
      ],
      "metadata": {
        "colab": {
          "base_uri": "https://localhost:8080/"
        },
        "id": "FbOOmnCFgglP",
        "outputId": "e7c2dea0-e01e-4fe3-cb47-62da93ec0fb6"
      },
      "execution_count": null,
      "outputs": [
        {
          "output_type": "execute_result",
          "data": {
            "text/plain": [
              "tensor([[ 2,  9,  9],\n",
              "        [10,  0,  1]])"
            ]
          },
          "metadata": {},
          "execution_count": 12
        }
      ]
    },
    {
      "cell_type": "code",
      "source": [
        "test_122[:, :, 2]"
      ],
      "metadata": {
        "colab": {
          "base_uri": "https://localhost:8080/"
        },
        "id": "iUH4yMDAgs_K",
        "outputId": "d4f3b6be-ec1b-41d4-835d-160524bc30a1"
      },
      "execution_count": null,
      "outputs": [
        {
          "output_type": "execute_result",
          "data": {
            "text/plain": [
              "tensor([[9, 7, 1],\n",
              "        [1, 6, 3]])"
            ]
          },
          "metadata": {},
          "execution_count": 13
        }
      ]
    },
    {
      "cell_type": "markdown",
      "source": [
        "#*13. NumPy*"
      ],
      "metadata": {
        "id": "TkGRsU68hd6R"
      }
    },
    {
      "cell_type": "code",
      "source": [
        "import torch\n",
        "import numpy as np\n",
        "\n",
        "array = np.arange(1.0, 8.0)\n",
        "tensor = torch.from_numpy(array)\n",
        "\n",
        "array, tensor #float 64 is not pytorch's default 32, bcs numpy default is 32; when converting between numpy and torch they will keep the dtypes respectfully"
      ],
      "metadata": {
        "colab": {
          "base_uri": "https://localhost:8080/"
        },
        "id": "qD3Z0SUjUeWl",
        "outputId": "44722248-9d85-4ba2-a074-a3bb26f5ad4b"
      },
      "execution_count": null,
      "outputs": [
        {
          "output_type": "execute_result",
          "data": {
            "text/plain": [
              "(array([1., 2., 3., 4., 5., 6., 7.]),\n",
              " tensor([1., 2., 3., 4., 5., 6., 7.], dtype=torch.float64))"
            ]
          },
          "metadata": {},
          "execution_count": 2
        }
      ]
    },
    {
      "cell_type": "code",
      "source": [
        "tensor.dtype"
      ],
      "metadata": {
        "colab": {
          "base_uri": "https://localhost:8080/"
        },
        "id": "HGGQ9klkV6SS",
        "outputId": "3542e1e5-3e13-4eb4-b539-3914ea69ea14"
      },
      "execution_count": null,
      "outputs": [
        {
          "output_type": "execute_result",
          "data": {
            "text/plain": [
              "torch.float64"
            ]
          },
          "metadata": {},
          "execution_count": 3
        }
      ]
    },
    {
      "cell_type": "code",
      "source": [
        "array.dtype"
      ],
      "metadata": {
        "colab": {
          "base_uri": "https://localhost:8080/"
        },
        "id": "Pi5VhmraWJkp",
        "outputId": "87bd71b1-6bde-4270-e5ac-c4a9712d6600"
      },
      "execution_count": null,
      "outputs": [
        {
          "output_type": "execute_result",
          "data": {
            "text/plain": [
              "dtype('float64')"
            ]
          },
          "metadata": {},
          "execution_count": 4
        }
      ]
    },
    {
      "cell_type": "code",
      "source": [
        "torch.arange(1.0, 8.0).dtype"
      ],
      "metadata": {
        "colab": {
          "base_uri": "https://localhost:8080/"
        },
        "id": "af3s1tIVWPTj",
        "outputId": "aed7754c-a153-445c-dd2e-92c1b49e6240"
      },
      "execution_count": null,
      "outputs": [
        {
          "output_type": "execute_result",
          "data": {
            "text/plain": [
              "torch.float32"
            ]
          },
          "metadata": {},
          "execution_count": 6
        }
      ]
    },
    {
      "cell_type": "code",
      "source": [
        "tensor = tensor.type(torch.float32) #chaging the type"
      ],
      "metadata": {
        "id": "UKlvAFMnWjBA"
      },
      "execution_count": null,
      "outputs": []
    },
    {
      "cell_type": "code",
      "source": [
        "tensor.dtype"
      ],
      "metadata": {
        "colab": {
          "base_uri": "https://localhost:8080/"
        },
        "id": "EP0ZsuP9W2bR",
        "outputId": "93927d36-2268-41f7-9987-b0b781f2918e"
      },
      "execution_count": null,
      "outputs": [
        {
          "output_type": "execute_result",
          "data": {
            "text/plain": [
              "torch.float32"
            ]
          },
          "metadata": {},
          "execution_count": 19
        }
      ]
    },
    {
      "cell_type": "code",
      "source": [
        "array = array + 1 #adding one to every element in the array, tensor stays the same (obvi)\n",
        "array, tensor"
      ],
      "metadata": {
        "colab": {
          "base_uri": "https://localhost:8080/"
        },
        "id": "wLWyo-lnXczv",
        "outputId": "db8ce347-177e-42f2-d881-f96b6d6dbe51"
      },
      "execution_count": null,
      "outputs": [
        {
          "output_type": "execute_result",
          "data": {
            "text/plain": [
              "(array([ 4.,  5.,  6.,  7.,  8.,  9., 10.]),\n",
              " tensor([1., 2., 3., 4., 5., 6., 7.]))"
            ]
          },
          "metadata": {},
          "execution_count": 22
        }
      ]
    },
    {
      "cell_type": "markdown",
      "source": [
        "# *14. Random Seed & Reproducibility*"
      ],
      "metadata": {
        "id": "dK2krK8WZTHv"
      }
    },
    {
      "cell_type": "code",
      "source": [
        "import torch\n",
        "\n",
        "rand_tensor_A = torch.rand(3, 4)\n",
        "rand_tensor_B = torch.rand(3, 4)\n",
        "\n",
        "rand_tensor_A, rand_tensor_B, rand_tensor_A == rand_tensor_B"
      ],
      "metadata": {
        "colab": {
          "base_uri": "https://localhost:8080/"
        },
        "id": "TuLSm0gzZgmf",
        "outputId": "29f2b0ba-cf76-44d6-a0e3-3a5e383dfebe"
      },
      "execution_count": null,
      "outputs": [
        {
          "output_type": "execute_result",
          "data": {
            "text/plain": [
              "(tensor([[0.9093, 0.5141, 0.7166, 0.9322],\n",
              "         [0.9303, 0.0916, 0.1910, 0.1956],\n",
              "         [0.3947, 0.9703, 0.1000, 0.1328]]),\n",
              " tensor([[0.4737, 0.6664, 0.9383, 0.2810],\n",
              "         [0.9017, 0.5817, 0.8431, 0.7943],\n",
              "         [0.1709, 0.2163, 0.2687, 0.3516]]),\n",
              " tensor([[False, False, False, False],\n",
              "         [False, False, False, False],\n",
              "         [False, False, False, False]]))"
            ]
          },
          "metadata": {},
          "execution_count": 25
        }
      ]
    },
    {
      "cell_type": "code",
      "source": [
        "rand_tensor_C = torch.rand(2, 2)\n",
        "rand_tensor_D = torch.rand(3, 3)\n",
        "\n",
        "#rand_tensor_C == rand_tensor_D --> RESULTS IN ERROR"
      ],
      "metadata": {
        "id": "mCcaghcfaPJC"
      },
      "execution_count": null,
      "outputs": []
    },
    {
      "cell_type": "code",
      "source": [
        "RANDOM_SEED = 42\n",
        "torch.manual_seed(RANDOM_SEED)\n",
        "rand_tensor_E = torch.rand(3, 3)\n",
        "\n",
        "torch.manual_seed(RANDOM_SEED)\n",
        "rand_tensor_F = torch.rand(3, 3)\n",
        "\n",
        "rand_tensor_E, rand_tensor_F, rand_tensor_E == rand_tensor_F"
      ],
      "metadata": {
        "colab": {
          "base_uri": "https://localhost:8080/"
        },
        "id": "M4Jn3_meaieu",
        "outputId": "2b3e1c5c-0889-44d3-f44f-321f69c53ddd"
      },
      "execution_count": null,
      "outputs": [
        {
          "output_type": "execute_result",
          "data": {
            "text/plain": [
              "(tensor([[0.8823, 0.9150, 0.3829],\n",
              "         [0.9593, 0.3904, 0.6009],\n",
              "         [0.2566, 0.7936, 0.9408]]),\n",
              " tensor([[0.8823, 0.9150, 0.3829],\n",
              "         [0.9593, 0.3904, 0.6009],\n",
              "         [0.2566, 0.7936, 0.9408]]),\n",
              " tensor([[True, True, True],\n",
              "         [True, True, True],\n",
              "         [True, True, True]]))"
            ]
          },
          "metadata": {},
          "execution_count": 34
        }
      ]
    },
    {
      "cell_type": "markdown",
      "source": [
        "-------------------------------------------\n",
        "#*15. Putting stufff on GPU*"
      ],
      "metadata": {
        "id": "2OdrEvZpcr5Y"
      }
    },
    {
      "cell_type": "code",
      "source": [
        "!nvidia-smi"
      ],
      "metadata": {
        "colab": {
          "base_uri": "https://localhost:8080/"
        },
        "id": "eUALMSYUctGn",
        "outputId": "118506a5-7a79-4cfd-f781-62bd57121b65"
      },
      "execution_count": null,
      "outputs": [
        {
          "output_type": "stream",
          "name": "stdout",
          "text": [
            "Sun Nov 19 16:38:53 2023       \n",
            "+-----------------------------------------------------------------------------+\n",
            "| NVIDIA-SMI 525.105.17   Driver Version: 525.105.17   CUDA Version: 12.0     |\n",
            "|-------------------------------+----------------------+----------------------+\n",
            "| GPU  Name        Persistence-M| Bus-Id        Disp.A | Volatile Uncorr. ECC |\n",
            "| Fan  Temp  Perf  Pwr:Usage/Cap|         Memory-Usage | GPU-Util  Compute M. |\n",
            "|                               |                      |               MIG M. |\n",
            "|===============================+======================+======================|\n",
            "|   0  Tesla T4            Off  | 00000000:00:04.0 Off |                    0 |\n",
            "| N/A   39C    P8     9W /  70W |      0MiB / 15360MiB |      0%      Default |\n",
            "|                               |                      |                  N/A |\n",
            "+-------------------------------+----------------------+----------------------+\n",
            "                                                                               \n",
            "+-----------------------------------------------------------------------------+\n",
            "| Processes:                                                                  |\n",
            "|  GPU   GI   CI        PID   Type   Process name                  GPU Memory |\n",
            "|        ID   ID                                                   Usage      |\n",
            "|=============================================================================|\n",
            "|  No running processes found                                                 |\n",
            "+-----------------------------------------------------------------------------+\n"
          ]
        }
      ]
    },
    {
      "cell_type": "code",
      "source": [
        "import torch\n",
        "\n",
        "torch.cuda.is_available()"
      ],
      "metadata": {
        "colab": {
          "base_uri": "https://localhost:8080/"
        },
        "id": "9ywaYat8c-t5",
        "outputId": "cf07e68e-5a73-4820-8adf-cf9f749d6570"
      },
      "execution_count": null,
      "outputs": [
        {
          "output_type": "execute_result",
          "data": {
            "text/plain": [
              "True"
            ]
          },
          "metadata": {},
          "execution_count": 2
        }
      ]
    },
    {
      "cell_type": "code",
      "source": [
        "device = \"cuda\" if torch.cuda.is_available() else \"cpu\""
      ],
      "metadata": {
        "id": "cXvYjsJ0dQHA"
      },
      "execution_count": null,
      "outputs": []
    },
    {
      "cell_type": "code",
      "source": [
        "device"
      ],
      "metadata": {
        "colab": {
          "base_uri": "https://localhost:8080/",
          "height": 35
        },
        "id": "9UP9z2qgdYpF",
        "outputId": "41607eae-de49-4f95-8c90-550999288164"
      },
      "execution_count": null,
      "outputs": [
        {
          "output_type": "execute_result",
          "data": {
            "text/plain": [
              "'cuda'"
            ],
            "application/vnd.google.colaboratory.intrinsic+json": {
              "type": "string"
            }
          },
          "metadata": {},
          "execution_count": 4
        }
      ]
    },
    {
      "cell_type": "code",
      "source": [
        "torch.cuda.device_count()"
      ],
      "metadata": {
        "colab": {
          "base_uri": "https://localhost:8080/"
        },
        "id": "Fux-tbU3dcn6",
        "outputId": "5d3a8bfd-49e4-4174-d411-e49b058931ef"
      },
      "execution_count": null,
      "outputs": [
        {
          "output_type": "execute_result",
          "data": {
            "text/plain": [
              "1"
            ]
          },
          "metadata": {},
          "execution_count": 6
        }
      ]
    },
    {
      "cell_type": "code",
      "source": [
        "tensor = torch.tensor([1, 2, 3])\n",
        "\n",
        "tensor.device"
      ],
      "metadata": {
        "colab": {
          "base_uri": "https://localhost:8080/"
        },
        "id": "iwY6VTqDePP6",
        "outputId": "4f0a9ed8-69ae-4925-97ac-807f25eb7cfc"
      },
      "execution_count": null,
      "outputs": [
        {
          "output_type": "execute_result",
          "data": {
            "text/plain": [
              "device(type='cpu')"
            ]
          },
          "metadata": {},
          "execution_count": 20
        }
      ]
    },
    {
      "cell_type": "code",
      "source": [
        "tensor = tensor.to(device) #putting the tensor on GPU if available (check code above)\n",
        "tensor.device"
      ],
      "metadata": {
        "colab": {
          "base_uri": "https://localhost:8080/"
        },
        "id": "lzt87re1eXvg",
        "outputId": "3a05628b-8f9a-42d6-c5c6-8176787c8fee"
      },
      "execution_count": null,
      "outputs": [
        {
          "output_type": "execute_result",
          "data": {
            "text/plain": [
              "device(type='cuda', index=0)"
            ]
          },
          "metadata": {},
          "execution_count": 21
        }
      ]
    },
    {
      "cell_type": "code",
      "source": [
        "#tensor = tensor.to(\"cpu\") #moving back to cpu\n",
        "tensor = tensor.cpu() #or like this\n",
        "tensor.device, tensor"
      ],
      "metadata": {
        "colab": {
          "base_uri": "https://localhost:8080/"
        },
        "id": "CtE4kxsSezOm",
        "outputId": "af55df76-c3e3-4653-ca2e-ec5a5e43ba71"
      },
      "execution_count": null,
      "outputs": [
        {
          "output_type": "execute_result",
          "data": {
            "text/plain": [
              "(device(type='cpu'), tensor([1, 2, 3]))"
            ]
          },
          "metadata": {},
          "execution_count": 22
        }
      ]
    },
    {
      "cell_type": "code",
      "source": [
        "tensor = tensor.to(device) #back on gpu\n",
        "#tensor.device\n",
        "\n",
        "# tensor = tensor.numpy() --> results in error\n",
        "\n",
        "tensor = tensor.cpu().numpy()\n",
        "tensor"
      ],
      "metadata": {
        "colab": {
          "base_uri": "https://localhost:8080/"
        },
        "id": "99hEMxWffXRO",
        "outputId": "729fd287-d8ab-4b30-ce2d-779ec28729ec"
      },
      "execution_count": null,
      "outputs": [
        {
          "output_type": "execute_result",
          "data": {
            "text/plain": [
              "array([1, 2, 3])"
            ]
          },
          "metadata": {},
          "execution_count": 23
        }
      ]
    },
    {
      "cell_type": "code",
      "source": [],
      "metadata": {
        "id": "oRukDzn5fvuA"
      },
      "execution_count": null,
      "outputs": []
    }
  ]
}