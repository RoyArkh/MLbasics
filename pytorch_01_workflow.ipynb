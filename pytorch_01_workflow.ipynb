{
  "nbformat": 4,
  "nbformat_minor": 0,
  "metadata": {
    "colab": {
      "provenance": [],
      "authorship_tag": "ABX9TyPZPtCP3SVpt0kTqBeKvmeJ",
      "include_colab_link": true
    },
    "kernelspec": {
      "name": "python3",
      "display_name": "Python 3"
    },
    "language_info": {
      "name": "python"
    }
  },
  "cells": [
    {
      "cell_type": "markdown",
      "metadata": {
        "id": "view-in-github",
        "colab_type": "text"
      },
      "source": [
        "<a href=\"https://colab.research.google.com/github/RoyArkh/MLbasics/blob/main/pytorch_01_workflow.ipynb\" target=\"_parent\"><img src=\"https://colab.research.google.com/assets/colab-badge.svg\" alt=\"Open In Colab\"/></a>"
      ]
    },
    {
      "cell_type": "code",
      "source": [
        "import torch\n",
        "from torch import nn\n",
        "import matplotlib.pyplot as plt"
      ],
      "metadata": {
        "id": "QblQl96YbW-F"
      },
      "execution_count": null,
      "outputs": []
    },
    {
      "cell_type": "markdown",
      "source": [
        "#*1. Working with Data: Data prep*\n",
        "\n",
        "Using linear regression for that (y = bx + a)"
      ],
      "metadata": {
        "id": "xkXKXkL3apTD"
      }
    },
    {
      "cell_type": "code",
      "execution_count": null,
      "metadata": {
        "colab": {
          "base_uri": "https://localhost:8080/"
        },
        "id": "BsutTbUbZgCF",
        "outputId": "99f44832-efd6-414b-d9e2-0e9c66b75612"
      },
      "outputs": [
        {
          "output_type": "execute_result",
          "data": {
            "text/plain": [
              "(tensor([[0.0000],\n",
              "         [0.0200],\n",
              "         [0.0400],\n",
              "         [0.0600],\n",
              "         [0.0800],\n",
              "         [0.1000],\n",
              "         [0.1200],\n",
              "         [0.1400],\n",
              "         [0.1600],\n",
              "         [0.1800]]),\n",
              " tensor([[0.3000],\n",
              "         [0.3140],\n",
              "         [0.3280],\n",
              "         [0.3420],\n",
              "         [0.3560],\n",
              "         [0.3700],\n",
              "         [0.3840],\n",
              "         [0.3980],\n",
              "         [0.4120],\n",
              "         [0.4260]]),\n",
              " 50,\n",
              " 50)"
            ]
          },
          "metadata": {},
          "execution_count": 123
        }
      ],
      "source": [
        "weight = 0.7 #this is our b from the formula\n",
        "bias = 0.3 #this is the a from the formula\n",
        "\n",
        "#now we create the structure\n",
        "start = 0\n",
        "end = 1\n",
        "step = 0.02\n",
        "\n",
        "#creating the matrix with the known vars we chose\n",
        "MATRIX = torch.arange(start, end, step).unsqueeze(dim=1) #the matrix names are capital by convention\n",
        "y = weight * MATRIX + bias #from the formula of linear regression; by convention vector names are lowercase\n",
        "\n",
        "MATRIX[:10], y[:10], len(MATRIX), len(y)\n",
        "\n",
        "#the point is to make a model that will understand the mapping from METRIX to y"
      ]
    },
    {
      "cell_type": "code",
      "source": [
        "#splitting the data set 80/20 % for training and testing respectively\n",
        "\n",
        "train_split = int(0.8 * len(MATRIX)) #the testing samples (=40 which is 80% of the total 50 samples)\n",
        "\n",
        "MATRIX_train = MATRIX[:train_split] #getting the training data\n",
        "y_train = y[:train_split]\n",
        "\n",
        "MATRIX_test, y_test = MATRIX[train_split:], y[train_split:] #getting the testing data"
      ],
      "metadata": {
        "id": "vdWg9BquAKwr"
      },
      "execution_count": null,
      "outputs": []
    },
    {
      "cell_type": "code",
      "source": [
        "len(MATRIX_train), len(y_train), len(MATRIX_test), len(y_test)"
      ],
      "metadata": {
        "colab": {
          "base_uri": "https://localhost:8080/"
        },
        "id": "-V2iw7amBfBM",
        "outputId": "455913dc-6fd0-4942-89ee-300da4e7a691"
      },
      "execution_count": null,
      "outputs": [
        {
          "output_type": "execute_result",
          "data": {
            "text/plain": [
              "(40, 40, 10, 10)"
            ]
          },
          "metadata": {},
          "execution_count": 125
        }
      ]
    },
    {
      "cell_type": "code",
      "source": [
        "def plot_predictions(train_data = MATRIX_train, train_labels = y_train, test_data = MATRIX_test, test_labels = y_test, predictions = None):\n",
        "    plt.figure(figsize=(10, 7))\n",
        "    plt.scatter(train_data, train_labels, c=\"b\", s=4, label=\"Training data\")\n",
        "    plt.scatter(test_data, test_labels, c=\"g\", s=4, label=\"Testing data\")\n",
        "\n",
        "    if predictions != None:\n",
        "        plt.scatter(test_data, predictions, c=\"r\", s=4, label=\"Predictions\")\n",
        "\n",
        "    plt.legend(prop={\"size\": 14});"
      ],
      "metadata": {
        "id": "LMOIQPsFCp5L"
      },
      "execution_count": null,
      "outputs": []
    },
    {
      "cell_type": "code",
      "source": [
        "plot_predictions()"
      ],
      "metadata": {
        "colab": {
          "base_uri": "https://localhost:8080/",
          "height": 591
        },
        "id": "YWI5bLQkEmgy",
        "outputId": "f28da7e0-1e6e-4437-f620-19a33e9c5596"
      },
      "execution_count": null,
      "outputs": [
        {
          "output_type": "display_data",
          "data": {
            "text/plain": [
              "<Figure size 1000x700 with 1 Axes>"
            ],
            "image/png": "[encoded data removed]"
          },
          "metadata": {}
        }
      ]
    },
    {
      "cell_type": "markdown",
      "source": [
        "#*2. Making model*\n",
        "start w random values, adjust, repeat.\n",
        "2 main algos: gradient descent; back propogation\n",
        "important things for building models:\n",
        "1. torch.nn - everything for computational graphs\n",
        "2. torch.nn.Parameter - the things that model is supposed to learn, usually layers set by pytorch\n",
        "3. torch.nn.Module - base class for all modules, override forward\n",
        "4. torch.optim - optimizing w algorithms\n",
        "5. forward() - defines the computation"
      ],
      "metadata": {
        "id": "IwkR1pQcXo4N"
      }
    },
    {
      "cell_type": "code",
      "source": [
        "from torch import nn\n",
        "\n",
        "class LinearRegressionModel(nn.Module):\n",
        "    def __init__(self):\n",
        "        super().__init__()\n",
        "        self.weights = nn.Parameter(torch.randn(1, # <- start with random weights (this will get adjusted as the model learns)\n",
        "                                                dtype=torch.float), # <- PyTorch loves float32 by default\n",
        "                                   requires_grad=True) # <- can we update this value with gradient descent?)\n",
        "\n",
        "        self.bias = nn.Parameter(torch.randn(1, # <- start with random bias (this will get adjusted as the model learns)\n",
        "                                            dtype=torch.float), # <- PyTorch loves float32 by default\n",
        "                                requires_grad=True) # <- can we update this value with gradient descent?))\n",
        "\n",
        "    # Forward defines the computation in the model\n",
        "    def forward(self, x: torch.Tensor) -> torch.Tensor: # <- \"x\" is the input data (e.g. training/testing features)\n",
        "        return self.weights * x + self.bias # <- this is the linear regression formula (y = m*x + b)"
      ],
      "metadata": {
        "id": "aummPVytGaJf"
      },
      "execution_count": null,
      "outputs": []
    },
    {
      "cell_type": "code",
      "source": [
        "# Create a random seed\n",
        "torch.manual_seed(42)\n",
        "\n",
        "# Create an instance of the model (this is a subclass of nn.Module)\n",
        "model_0 = LinearRegressionModel()\n",
        "\n",
        "# Check out the parameters\n",
        "list(model_0.parameters())"
      ],
      "metadata": {
        "colab": {
          "base_uri": "https://localhost:8080/"
        },
        "id": "rG7hYA8XcAzQ",
        "outputId": "c721971f-bccc-4ba9-f92a-c29fc0046237"
      },
      "execution_count": null,
      "outputs": [
        {
          "output_type": "execute_result",
          "data": {
            "text/plain": [
              "[Parameter containing:\n",
              " tensor([0.3367], requires_grad=True),\n",
              " Parameter containing:\n",
              " tensor([0.1288], requires_grad=True)]"
            ]
          },
          "metadata": {},
          "execution_count": 129
        }
      ]
    },
    {
      "cell_type": "code",
      "source": [
        "#listing named\n",
        "model_0.state_dict()"
      ],
      "metadata": {
        "colab": {
          "base_uri": "https://localhost:8080/"
        },
        "id": "4IX6nye2kODK",
        "outputId": "e720c012-a8ce-4e62-8520-7dcc67f6ffc4"
      },
      "execution_count": null,
      "outputs": [
        {
          "output_type": "execute_result",
          "data": {
            "text/plain": [
              "OrderedDict([('weights', tensor([0.3367])), ('bias', tensor([0.1288]))])"
            ]
          },
          "metadata": {},
          "execution_count": 130
        }
      ]
    },
    {
      "cell_type": "code",
      "source": [
        "weight, bias"
      ],
      "metadata": {
        "colab": {
          "base_uri": "https://localhost:8080/"
        },
        "id": "RYT2Ylh1kejW",
        "outputId": "4bbcdd30-976a-421b-ed5e-9c150d2399d2"
      },
      "execution_count": null,
      "outputs": [
        {
          "output_type": "execute_result",
          "data": {
            "text/plain": [
              "(0.7, 0.3)"
            ]
          },
          "metadata": {},
          "execution_count": 131
        }
      ]
    },
    {
      "cell_type": "code",
      "source": [
        "#to see how good it predicts we will use x and y test\n",
        "\n",
        "with torch.inference_mode(): #when inference mode? when no training, so that pytorch doesnt keep track of gradients and other potentially useless data -> makes larger datasets faster generated\n",
        "    y_preds = model_0(MATRIX_test)\n",
        "\n",
        "y_preds, y_test"
      ],
      "metadata": {
        "colab": {
          "base_uri": "https://localhost:8080/"
        },
        "id": "2exJtL3Pku6M",
        "outputId": "2729b476-119e-4949-89b9-14f5f0edb359"
      },
      "execution_count": null,
      "outputs": [
        {
          "output_type": "execute_result",
          "data": {
            "text/plain": [
              "(tensor([[0.3982],\n",
              "         [0.4049],\n",
              "         [0.4116],\n",
              "         [0.4184],\n",
              "         [0.4251],\n",
              "         [0.4318],\n",
              "         [0.4386],\n",
              "         [0.4453],\n",
              "         [0.4520],\n",
              "         [0.4588]]),\n",
              " tensor([[0.8600],\n",
              "         [0.8740],\n",
              "         [0.8880],\n",
              "         [0.9020],\n",
              "         [0.9160],\n",
              "         [0.9300],\n",
              "         [0.9440],\n",
              "         [0.9580],\n",
              "         [0.9720],\n",
              "         [0.9860]]))"
            ]
          },
          "metadata": {},
          "execution_count": 132
        }
      ]
    },
    {
      "cell_type": "code",
      "source": [
        "plot_predictions(predictions=y_preds)"
      ],
      "metadata": {
        "colab": {
          "base_uri": "https://localhost:8080/",
          "height": 591
        },
        "id": "zgCZ_WhFmvHf",
        "outputId": "11f7a2ec-4c4f-47a7-e282-7cc3d13ed14e"
      },
      "execution_count": null,
      "outputs": [
        {
          "output_type": "display_data",
          "data": {
            "text/plain": [
              "<Figure size 1000x700 with 1 Axes>"
            ],
            "image/png": "[encoded data removed]"
          },
          "metadata": {}
        }
      ]
    },
    {
      "cell_type": "markdown",
      "source": [
        "#*3.Training*"
      ],
      "metadata": {
        "id": "T1FIYxSMocnX"
      }
    },
    {
      "cell_type": "code",
      "source": [
        "#to measure how shit your model is we use loss functions (synonyms: cost func, criterion)\n",
        "#to make things better we will have an optimizer which will see the loss func and adjust parameters"
      ],
      "metadata": {
        "id": "_Ni5sOyVohqg"
      },
      "execution_count": null,
      "outputs": []
    },
    {
      "cell_type": "code",
      "source": [
        "list(model_0.parameters())"
      ],
      "metadata": {
        "colab": {
          "base_uri": "https://localhost:8080/"
        },
        "id": "OBlLn0PVf9qi",
        "outputId": "71dc818c-a02b-48f7-c998-71f364b007d8"
      },
      "execution_count": null,
      "outputs": [
        {
          "output_type": "execute_result",
          "data": {
            "text/plain": [
              "[Parameter containing:\n",
              " tensor([0.3367], requires_grad=True),\n",
              " Parameter containing:\n",
              " tensor([0.1288], requires_grad=True)]"
            ]
          },
          "metadata": {},
          "execution_count": 135
        }
      ]
    },
    {
      "cell_type": "code",
      "source": [
        "model_0.state_dict()"
      ],
      "metadata": {
        "colab": {
          "base_uri": "https://localhost:8080/"
        },
        "id": "-4lOx_RkgYeX",
        "outputId": "6e5e0187-ce64-4932-e702-1ae6ed4cccdb"
      },
      "execution_count": null,
      "outputs": [
        {
          "output_type": "execute_result",
          "data": {
            "text/plain": [
              "OrderedDict([('weights', tensor([0.3367])), ('bias', tensor([0.1288]))])"
            ]
          },
          "metadata": {},
          "execution_count": 136
        }
      ]
    },
    {
      "cell_type": "code",
      "source": [
        "#for pytorch we need training and testing loops"
      ],
      "metadata": {
        "id": "bu8APtJ4gfu8"
      },
      "execution_count": null,
      "outputs": []
    },
    {
      "cell_type": "code",
      "source": [
        "#first set up loss functions\n",
        "loss_func_0 = nn.L1Loss()\n",
        "\n",
        "#second - optimizer; optimizer takes the parameters of the model and the learning rate (lr)\n",
        "optimizer_0 = torch.optim.SGD(params=model_0.parameters(),\n",
        "                              lr=0.01)\n",
        "#lr is the amount of adjustment we do to our training set to get it as close as possible to the values we want"
      ],
      "metadata": {
        "id": "XJK2d7Evgom2"
      },
      "execution_count": null,
      "outputs": []
    },
    {
      "cell_type": "code",
      "source": [
        "#THE TRAINING LOOP\n",
        "torch.manual_seed(42)\n",
        "\n",
        "epochs = 100 #number of epochs that I will take my training through\n",
        "\n",
        "#tracking values can be done to later improve on the results with a different model\n",
        "epoch_count = []\n",
        "loss_values = []\n",
        "test_loss_values = []\n",
        "\n",
        "for epoch in range(epochs+1):\n",
        "    model_0.train() #pytorch sets the model into the training mode\n",
        "    y_pred = model_0(MATRIX_train) #the forward pass\n",
        "    loss = loss_func_0(y_pred, y_train) #calculating the loss\n",
        "    optimizer_0.zero_grad() #zero out the optimizer grad; otherwise optimizer changes accumulate\n",
        "    loss.backward() #backpropagation on loss w respect to params of model: calc gradient of each param\n",
        "    optimizer_0.step() #gradient desc.: parameter updates, reevaluates the model, returns loss\n",
        "\n",
        "    model_0.eval() #test the model; turns off stuff which is not used in testing\n",
        "    with torch.inference_mode():\n",
        "        test_pred = model_0(MATRIX_test) #forward pass\n",
        "        test_loss = loss_func_0(test_pred, y_test) #calc loss\n",
        "\n",
        "    if (epoch % 20 == 0): #just reporting\n",
        "        epoch_count.append(epoch)\n",
        "        loss_values.append(loss)\n",
        "        test_loss_values.append(test_loss)\n",
        "        print(epoch, loss, test_loss)\n",
        "        print(model_0.state_dict())\n",
        "\n",
        "    #print(model_0.state_dict())"
      ],
      "metadata": {
        "colab": {
          "base_uri": "https://localhost:8080/"
        },
        "id": "CBCURgPwjMdp",
        "outputId": "47fe159f-5fec-45e3-b5af-9081e243946d"
      },
      "execution_count": null,
      "outputs": [
        {
          "output_type": "stream",
          "name": "stdout",
          "text": [
            "0 tensor(0.3129, grad_fn=<MeanBackward0>) tensor(0.4811)\n",
            "OrderedDict([('weights', tensor([0.3406])), ('bias', tensor([0.1388]))])\n",
            "20 tensor(0.0891, grad_fn=<MeanBackward0>) tensor(0.2173)\n",
            "OrderedDict([('weights', tensor([0.4184])), ('bias', tensor([0.3333]))])\n",
            "40 tensor(0.0454, grad_fn=<MeanBackward0>) tensor(0.1136)\n",
            "OrderedDict([('weights', tensor([0.4748])), ('bias', tensor([0.3868]))])\n",
            "60 tensor(0.0382, grad_fn=<MeanBackward0>) tensor(0.0889)\n",
            "OrderedDict([('weights', tensor([0.5116])), ('bias', tensor([0.3788]))])\n",
            "80 tensor(0.0313, grad_fn=<MeanBackward0>) tensor(0.0723)\n",
            "OrderedDict([('weights', tensor([0.5459])), ('bias', tensor([0.3648]))])\n",
            "100 tensor(0.0245, grad_fn=<MeanBackward0>) tensor(0.0565)\n",
            "OrderedDict([('weights', tensor([0.5800])), ('bias', tensor([0.3503]))])\n"
          ]
        }
      ]
    },
    {
      "cell_type": "code",
      "source": [
        "model_0.state_dict()"
      ],
      "metadata": {
        "colab": {
          "base_uri": "https://localhost:8080/"
        },
        "id": "1tBjANCVs32G",
        "outputId": "4308f43c-0e7f-4a13-cb51-c28c44eed9ab"
      },
      "execution_count": null,
      "outputs": [
        {
          "output_type": "execute_result",
          "data": {
            "text/plain": [
              "OrderedDict([('weights', tensor([0.5800])), ('bias', tensor([0.3503]))])"
            ]
          },
          "metadata": {},
          "execution_count": 140
        }
      ]
    },
    {
      "cell_type": "code",
      "source": [
        "model_0.state_dict()"
      ],
      "metadata": {
        "colab": {
          "base_uri": "https://localhost:8080/"
        },
        "id": "qLDp4CzRr6KQ",
        "outputId": "a61f73d5-1c37-4d98-ff95-855041989c71"
      },
      "execution_count": null,
      "outputs": [
        {
          "output_type": "execute_result",
          "data": {
            "text/plain": [
              "OrderedDict([('weights', tensor([0.5800])), ('bias', tensor([0.3503]))])"
            ]
          },
          "metadata": {},
          "execution_count": 141
        }
      ]
    },
    {
      "cell_type": "code",
      "source": [
        "weight, bias"
      ],
      "metadata": {
        "colab": {
          "base_uri": "https://localhost:8080/"
        },
        "id": "_Hbn83hlsH9H",
        "outputId": "35788fc8-a622-42a1-e9b9-2aecf52a3f35"
      },
      "execution_count": null,
      "outputs": [
        {
          "output_type": "execute_result",
          "data": {
            "text/plain": [
              "(0.7, 0.3)"
            ]
          },
          "metadata": {},
          "execution_count": 142
        }
      ]
    },
    {
      "cell_type": "code",
      "source": [
        "with torch.inference_mode():\n",
        "    y_preds_new = model_0(MATRIX_test)"
      ],
      "metadata": {
        "id": "9cTf6sNCAV0N"
      },
      "execution_count": null,
      "outputs": []
    },
    {
      "cell_type": "code",
      "source": [
        "plot_predictions(predictions=y_preds_new)"
      ],
      "metadata": {
        "colab": {
          "base_uri": "https://localhost:8080/",
          "height": 591
        },
        "id": "TQaylvuEAl6t",
        "outputId": "b3774631-59c0-41fd-d7c2-b76c64b35257"
      },
      "execution_count": null,
      "outputs": [
        {
          "output_type": "display_data",
          "data": {
            "text/plain": [
              "<Figure size 1000x700 with 1 Axes>"
            ],
            "image/png": "[encoded data removed]"
          },
          "metadata": {}
        }
      ]
    },
    {
      "cell_type": "code",
      "source": [
        "import numpy as np\n",
        "\n",
        "#plot the loss curves\n",
        "plt.plot(epoch_count, np.array(torch.tensor(loss_values).detach().numpy()), label=\"Train loss\")\n",
        "plt.plot(epoch_count, test_loss_values, label=\"Test loss\")\n",
        "plt.title(\"training & test losses\")\n",
        "plt.ylabel(\"loss\")\n",
        "plt.xlabel(\"epochs\")\n",
        "plt.legend()"
      ],
      "metadata": {
        "id": "m-hrvgzrIlqw",
        "colab": {
          "base_uri": "https://localhost:8080/",
          "height": 489
        },
        "outputId": "1c661f6e-cc98-4867-ee38-8639b4937b64"
      },
      "execution_count": null,
      "outputs": [
        {
          "output_type": "execute_result",
          "data": {
            "text/plain": [
              "<matplotlib.legend.Legend at 0x78f90264ac20>"
            ]
          },
          "metadata": {},
          "execution_count": 145
        },
        {
          "output_type": "display_data",
          "data": {
            "text/plain": [
              "<Figure size 640x480 with 1 Axes>"
            ],
            "image/png": "[encoded data removed]"
          },
          "metadata": {}
        }
      ]
    },
    {
      "cell_type": "markdown",
      "source": [
        "#*4.Saving & Loading*"
      ],
      "metadata": {
        "id": "NAXxb-5Y9iNU"
      }
    },
    {
      "cell_type": "code",
      "source": [
        "#torch.save() --> python pickle format\n",
        "#torch.load() --> load saved obj\n",
        "#torch.nn.Module.load_state_dict() --> load model's saved state dictionary"
      ],
      "metadata": {
        "id": "IaC_WgIx9o-u"
      },
      "execution_count": null,
      "outputs": []
    },
    {
      "cell_type": "code",
      "source": [
        "model_0.state_dict()"
      ],
      "metadata": {
        "colab": {
          "base_uri": "https://localhost:8080/"
        },
        "id": "Sc_eQi18-E1w",
        "outputId": "72c94a99-e30b-45d3-a5d7-a48195f1eac1"
      },
      "execution_count": null,
      "outputs": [
        {
          "output_type": "execute_result",
          "data": {
            "text/plain": [
              "OrderedDict([('weights', tensor([0.5800])), ('bias', tensor([0.3503]))])"
            ]
          },
          "metadata": {},
          "execution_count": 147
        }
      ]
    },
    {
      "cell_type": "code",
      "source": [
        "#to save first create dir\n",
        "from pathlib import Path\n",
        "MODEL_PATH = Path(\"models\")\n",
        "MODEL_PATH.mkdir(parents=True, exist_ok=True)\n",
        "\n",
        "#create path\n",
        "MODEL_NAME = \"01_pytorch_model.pth\"\n",
        "MODEL_SAVE_PATH = MODEL_PATH / MODEL_NAME\n",
        "\n",
        "torch.save(obj=model_0.state_dict(),\n",
        "           f=MODEL_SAVE_PATH)\n",
        "\n",
        "model_0.state_dict()"
      ],
      "metadata": {
        "colab": {
          "base_uri": "https://localhost:8080/"
        },
        "id": "qhXyfaaA-2xl",
        "outputId": "45a1d991-3e8d-4dce-de28-8692a6e7f97e"
      },
      "execution_count": null,
      "outputs": [
        {
          "output_type": "execute_result",
          "data": {
            "text/plain": [
              "OrderedDict([('weights', tensor([0.5800])), ('bias', tensor([0.3503]))])"
            ]
          },
          "metadata": {},
          "execution_count": 148
        }
      ]
    },
    {
      "cell_type": "code",
      "source": [
        "#loading it back\n",
        "torch.load(MODEL_SAVE_PATH)"
      ],
      "metadata": {
        "colab": {
          "base_uri": "https://localhost:8080/"
        },
        "id": "A674iKAR_2pE",
        "outputId": "8e552655-c964-4d64-952f-1e01b46b0dbb"
      },
      "execution_count": null,
      "outputs": [
        {
          "output_type": "execute_result",
          "data": {
            "text/plain": [
              "OrderedDict([('weights', tensor([0.5800])), ('bias', tensor([0.3503]))])"
            ]
          },
          "metadata": {},
          "execution_count": 149
        }
      ]
    },
    {
      "cell_type": "code",
      "source": [
        "reloaded_model = LinearRegressionModel()\n",
        "reloaded_model.state_dict()"
      ],
      "metadata": {
        "colab": {
          "base_uri": "https://localhost:8080/"
        },
        "id": "rjDg82u7A0MC",
        "outputId": "bcb7ce6f-2490-4bda-e8d5-721f4ad74095"
      },
      "execution_count": null,
      "outputs": [
        {
          "output_type": "execute_result",
          "data": {
            "text/plain": [
              "OrderedDict([('weights', tensor([0.3367])), ('bias', tensor([0.1288]))])"
            ]
          },
          "metadata": {},
          "execution_count": 150
        }
      ]
    },
    {
      "cell_type": "code",
      "source": [
        "reloaded_model.load_state_dict(torch.load(f=MODEL_SAVE_PATH))"
      ],
      "metadata": {
        "colab": {
          "base_uri": "https://localhost:8080/"
        },
        "id": "J6J8LFhrBQxB",
        "outputId": "7596ee22-b82c-402c-d9d9-b72d472e01b2"
      },
      "execution_count": null,
      "outputs": [
        {
          "output_type": "execute_result",
          "data": {
            "text/plain": [
              "<All keys matched successfully>"
            ]
          },
          "metadata": {},
          "execution_count": 151
        }
      ]
    },
    {
      "cell_type": "code",
      "source": [
        "reloaded_model.state_dict()"
      ],
      "metadata": {
        "colab": {
          "base_uri": "https://localhost:8080/"
        },
        "id": "P9GwfvmBBhrb",
        "outputId": "a5fcd4ed-fa85-4d99-d1e8-a3640fd6c8b0"
      },
      "execution_count": null,
      "outputs": [
        {
          "output_type": "execute_result",
          "data": {
            "text/plain": [
              "OrderedDict([('weights', tensor([0.5800])), ('bias', tensor([0.3503]))])"
            ]
          },
          "metadata": {},
          "execution_count": 152
        }
      ]
    },
    {
      "cell_type": "code",
      "source": [
        "reloaded_model.eval()\n",
        "with torch.inference_mode():\n",
        "    reloaded_model_preds = model_0(MATRIX_test)\n",
        "\n",
        "reloaded_model_preds"
      ],
      "metadata": {
        "colab": {
          "base_uri": "https://localhost:8080/"
        },
        "id": "9dqVkBkdB6PN",
        "outputId": "d4594b8d-6c7a-4962-8f12-deeb3da99a90"
      },
      "execution_count": null,
      "outputs": [
        {
          "output_type": "execute_result",
          "data": {
            "text/plain": [
              "tensor([[0.8143],\n",
              "        [0.8259],\n",
              "        [0.8375],\n",
              "        [0.8491],\n",
              "        [0.8607],\n",
              "        [0.8723],\n",
              "        [0.8839],\n",
              "        [0.8955],\n",
              "        [0.9071],\n",
              "        [0.9187]])"
            ]
          },
          "metadata": {},
          "execution_count": 153
        }
      ]
    },
    {
      "cell_type": "code",
      "source": [
        "model_0.eval()\n",
        "with torch.inference_mode():\n",
        "    zero_preds = model_0(MATRIX_test)\n",
        "\n",
        "\n",
        "zero_preds == reloaded_model_preds #the models match up."
      ],
      "metadata": {
        "colab": {
          "base_uri": "https://localhost:8080/"
        },
        "id": "0_U8PUHaCRr5",
        "outputId": "6ee39aee-62f8-47a0-f6b5-fb14f50aadd2"
      },
      "execution_count": null,
      "outputs": [
        {
          "output_type": "execute_result",
          "data": {
            "text/plain": [
              "tensor([[True],\n",
              "        [True],\n",
              "        [True],\n",
              "        [True],\n",
              "        [True],\n",
              "        [True],\n",
              "        [True],\n",
              "        [True],\n",
              "        [True],\n",
              "        [True]])"
            ]
          },
          "metadata": {},
          "execution_count": 154
        }
      ]
    },
    {
      "cell_type": "markdown",
      "source": [
        "#*5. Practice*"
      ],
      "metadata": {
        "id": "Kt_mZ0iqQWUx"
      }
    },
    {
      "cell_type": "code",
      "source": [
        "import torch\n",
        "from torch import nn\n",
        "import matplotlib.pyplot as plt\n",
        "\n",
        "device = \"cuda\" if torch.cuda.is_available() else \"cpu\"\n",
        "device"
      ],
      "metadata": {
        "colab": {
          "base_uri": "https://localhost:8080/",
          "height": 35
        },
        "id": "4ZmsrIHcQVu8",
        "outputId": "ba01b2d2-b7eb-432e-fef4-25443973c242"
      },
      "execution_count": null,
      "outputs": [
        {
          "output_type": "execute_result",
          "data": {
            "text/plain": [
              "'cpu'"
            ],
            "application/vnd.google.colaboratory.intrinsic+json": {
              "type": "string"
            }
          },
          "metadata": {},
          "execution_count": 155
        }
      ]
    },
    {
      "cell_type": "code",
      "source": [
        "weight = 5\n",
        "bias = 0.5\n",
        "\n",
        "start = 0\n",
        "end = 10\n",
        "step = 0.1\n",
        "\n",
        "X = torch.arange(start, end, step).unsqueeze(dim=1)\n",
        "y = weight * X + bias\n",
        "#X[:10], y[:10]\n",
        "#len(X) , len(y)"
      ],
      "metadata": {
        "id": "HG5FP4jvRC0t"
      },
      "execution_count": null,
      "outputs": []
    },
    {
      "cell_type": "code",
      "source": [
        "train_amount = int(0.7 * len(X))\n",
        "X_train, y_train = X[:train_amount], y[:train_amount]\n",
        "X_test, y_test = X[train_amount:], y[train_amount:]\n",
        "#len(X_train), len(y_train), len(X_test), len(y_test)\n",
        "\n",
        "def plot_predictions(train_data = X_train, train_labels = y_train, test_data = X_test, test_labels = y_test, predictions = None):\n",
        "    plt.figure(figsize=(10, 7))\n",
        "    plt.scatter(train_data, train_labels, c=\"b\", s=4, label=\"Training data\")\n",
        "    plt.scatter(test_data, test_labels, c=\"g\", s=4, label=\"Testing data\")\n",
        "\n",
        "    if predictions != None:\n",
        "        plt.scatter(test_data, predictions, c=\"r\", s=4, label=\"Predictions\")\n",
        "\n",
        "    plt.legend(prop={\"size\": 14});\n",
        "\n",
        "plot_predictions();"
      ],
      "metadata": {
        "colab": {
          "base_uri": "https://localhost:8080/",
          "height": 593
        },
        "id": "0qGhZt1ZSj2K",
        "outputId": "caf20ebf-4355-4300-ee10-50d9cc385e49"
      },
      "execution_count": null,
      "outputs": [
        {
          "output_type": "display_data",
          "data": {
            "text/plain": [
              "<Figure size 1000x700 with 1 Axes>"
            ],
            "image/png": "[encoded data removed]"
          },
          "metadata": {}
        }
      ]
    },
    {
      "cell_type": "code",
      "source": [
        "class LinearRegressionModel2(nn.Module):\n",
        "    def __init__(self):\n",
        "        super().__init__()\n",
        "        self.linear_layer = nn.Linear(in_features=1, out_features=1)\n",
        "\n",
        "    def forward(self, x: torch.Tensor,) -> torch.Tensor:\n",
        "        return self.linear_layer(x)\n",
        "\n",
        "\n",
        "torch.manual_seed(42)\n",
        "model1 = LinearRegressionModel2()\n",
        "model1, model1.state_dict()"
      ],
      "metadata": {
        "colab": {
          "base_uri": "https://localhost:8080/"
        },
        "id": "gNcBal0fTYmW",
        "outputId": "c30d9ca4-95d3-41fa-f910-7bc5bd382073"
      },
      "execution_count": null,
      "outputs": [
        {
          "output_type": "execute_result",
          "data": {
            "text/plain": [
              "(LinearRegressionModel2(\n",
              "   (linear_layer): Linear(in_features=1, out_features=1, bias=True)\n",
              " ),\n",
              " OrderedDict([('linear_layer.weight', tensor([[0.7645]])),\n",
              "              ('linear_layer.bias', tensor([0.8300]))]))"
            ]
          },
          "metadata": {},
          "execution_count": 158
        }
      ]
    },
    {
      "cell_type": "code",
      "source": [
        "model1.to(device)\n",
        "next(model1.parameters()).device\n",
        "\n",
        "loss_func1 = nn.L1Loss()\n",
        "optimizer = torch.optim.SGD(params=model1.parameters(), lr = 0.01)"
      ],
      "metadata": {
        "id": "hJcyTKe4Xliw"
      },
      "execution_count": null,
      "outputs": []
    },
    {
      "cell_type": "code",
      "source": [
        "torch.manual_seed(42)\n",
        "epochs = 200\n",
        "\n",
        "X_train = X_train.to(device)\n",
        "X_test = X_test.to(device)\n",
        "y_train = y_train.to(device)\n",
        "y_test = y_test.to(device)\n",
        "\n",
        "for epoch in range(epochs+1):\n",
        "    model1.train()\n",
        "    y_pred = model1(X_train)\n",
        "    loss = loss_func1(y_pred, y_train)\n",
        "    optimizer.zero_grad()\n",
        "    loss.backward()\n",
        "    optimizer.step()\n",
        "\n",
        "    model1.eval()\n",
        "    with torch.inference_mode():\n",
        "        test_preds = model1(X_test)\n",
        "        test_loss = loss_func1(test_preds, y_test)\n",
        "\n",
        "    if epoch % 20 == 0:\n",
        "        print(\"epoch: \", epoch, \" loss: \", loss, \" test loss: \", test_loss)"
      ],
      "metadata": {
        "colab": {
          "base_uri": "https://localhost:8080/"
        },
        "id": "QqtgpvQBYFlI",
        "outputId": "8d90e074-1f78-49d0-bdbf-836f0d4a6ded"
      },
      "execution_count": null,
      "outputs": [
        {
          "output_type": "stream",
          "name": "stdout",
          "text": [
            "epoch:  0  loss:  tensor(13.9064, grad_fn=<MeanBackward0>)  test loss:  tensor(34.2547)\n",
            "epoch:  20  loss:  tensor(11.3486, grad_fn=<MeanBackward0>)  test loss:  tensor(28.2383)\n",
            "epoch:  40  loss:  tensor(8.8047, grad_fn=<MeanBackward0>)  test loss:  tensor(22.2333)\n",
            "epoch:  60  loss:  tensor(6.2899, grad_fn=<MeanBackward0>)  test loss:  tensor(16.2556)\n",
            "epoch:  80  loss:  tensor(3.8431, grad_fn=<MeanBackward0>)  test loss:  tensor(10.3494)\n",
            "epoch:  100  loss:  tensor(1.6234, grad_fn=<MeanBackward0>)  test loss:  tensor(4.7245)\n",
            "epoch:  120  loss:  tensor(0.5348, grad_fn=<MeanBackward0>)  test loss:  tensor(1.1145)\n",
            "epoch:  140  loss:  tensor(0.4908, grad_fn=<MeanBackward0>)  test loss:  tensor(0.8789)\n",
            "epoch:  160  loss:  tensor(0.4572, grad_fn=<MeanBackward0>)  test loss:  tensor(0.8068)\n",
            "epoch:  180  loss:  tensor(0.4236, grad_fn=<MeanBackward0>)  test loss:  tensor(0.7347)\n",
            "epoch:  200  loss:  tensor(0.3900, grad_fn=<MeanBackward0>)  test loss:  tensor(0.6748)\n"
          ]
        }
      ]
    },
    {
      "cell_type": "code",
      "source": [
        "model1.state_dict(), weight, bias"
      ],
      "metadata": {
        "colab": {
          "base_uri": "https://localhost:8080/"
        },
        "id": "aDRf48EAayNQ",
        "outputId": "9443e718-fa14-43a3-a9e0-2a3c6c80a7c6"
      },
      "execution_count": null,
      "outputs": [
        {
          "output_type": "execute_result",
          "data": {
            "text/plain": [
              "(OrderedDict([('linear_layer.weight', tensor([[4.8103]])),\n",
              "              ('linear_layer.bias', tensor([1.4280]))]),\n",
              " 5,\n",
              " 0.5)"
            ]
          },
          "metadata": {},
          "execution_count": 165
        }
      ]
    },
    {
      "cell_type": "code",
      "source": [
        "with torch.inference_mode():\n",
        "    y_preds = model1(X_test)\n",
        "\n",
        "plot_predictions(predictions=y_preds)"
      ],
      "metadata": {
        "colab": {
          "base_uri": "https://localhost:8080/",
          "height": 593
        },
        "id": "wr0R2Hava_Iq",
        "outputId": "f42096d7-6fed-4874-d649-e3f9895f4276"
      },
      "execution_count": null,
      "outputs": [
        {
          "output_type": "display_data",
          "data": {
            "text/plain": [
              "<Figure size 1000x700 with 1 Axes>"
            ],
            "image/png": "[encoded data removed]"
          },
          "metadata": {}
        }
      ]
    },
    {
      "cell_type": "code",
      "source": [
        "from pathlib import Path\n",
        "MODEL_PATH = Path(\"models\")\n",
        "MODEL_PATH.mkdir(parents=True, exist_ok=True)\n",
        "MODEL_NAME = \"01_pytorch_model_2.pth\"\n",
        "MODEL_SAVE_PATH = MODEL_PATH / MODEL_NAME\n",
        "\n",
        "torch.save(obj=model1.state_dict(), f=MODEL_SAVE_PATH)"
      ],
      "metadata": {
        "id": "PI7yYL1acPJg"
      },
      "execution_count": null,
      "outputs": []
    }
  ]
}